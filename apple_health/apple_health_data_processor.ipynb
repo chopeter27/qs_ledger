{
 "cells": [
  {
   "cell_type": "markdown",
   "metadata": {},
   "source": [
    "## Apple Health Processor"
   ]
  },
  {
   "cell_type": "markdown",
   "metadata": {},
   "source": [
    "-----"
   ]
  },
  {
   "cell_type": "markdown",
   "metadata": {},
   "source": [
    "## Dependencies and Libraries"
   ]
  },
  {
   "cell_type": "code",
   "execution_count": 1,
   "metadata": {
    "collapsed": true
   },
   "outputs": [],
   "source": [
    "from datetime import date, datetime, timedelta as td\n",
    "import pytz\n",
    "import numpy as np\n",
    "import pandas as pd\n",
    "import matplotlib.pyplot as plt\n",
    "%matplotlib inline"
   ]
  },
  {
   "cell_type": "markdown",
   "metadata": {},
   "source": [
    "------"
   ]
  },
  {
   "cell_type": "markdown",
   "metadata": {},
   "source": [
    "## Functions for Processing Dates and Timezones"
   ]
  },
  {
   "cell_type": "code",
   "execution_count": 2,
   "metadata": {
    "collapsed": true
   },
   "outputs": [],
   "source": [
    "# functions to convert UTC to Eastern time zone and extract date/time elements\n",
    "convert_tz = lambda x: x.to_pydatetime().replace(tzinfo=pytz.utc).astimezone(pytz.timezone('US/Eastern'))\n",
    "get_year = lambda x: convert_tz(x).year\n",
    "get_month = lambda x: '{}-{:02}'.format(convert_tz(x).year, convert_tz(x).month) #inefficient\n",
    "get_date = lambda x: '{}-{:02}-{:02}'.format(convert_tz(x).year, convert_tz(x).month, convert_tz(x).day) #inefficient\n",
    "get_day = lambda x: convert_tz(x).day\n",
    "get_hour = lambda x: convert_tz(x).hour\n",
    "get_minute = lambda x: convert_tz(x).minute\n",
    "get_day_of_week = lambda x: convert_tz(x).weekday()"
   ]
  },
  {
   "cell_type": "markdown",
   "metadata": {},
   "source": [
    "---"
   ]
  },
  {
   "cell_type": "markdown",
   "metadata": {},
   "source": [
    "## Steps"
   ]
  },
  {
   "cell_type": "code",
   "execution_count": 3,
   "metadata": {
    "collapsed": true
   },
   "outputs": [],
   "source": [
    "steps = pd.read_csv(\"data/StepCount.csv\")"
   ]
  },
  {
   "cell_type": "code",
   "execution_count": 4,
   "metadata": {},
   "outputs": [
    {
     "data": {
      "text/html": [
       "<div>\n",
       "<style scoped>\n",
       "    .dataframe tbody tr th:only-of-type {\n",
       "        vertical-align: middle;\n",
       "    }\n",
       "\n",
       "    .dataframe tbody tr th {\n",
       "        vertical-align: top;\n",
       "    }\n",
       "\n",
       "    .dataframe thead th {\n",
       "        text-align: right;\n",
       "    }\n",
       "</style>\n",
       "<table border=\"1\" class=\"dataframe\">\n",
       "  <thead>\n",
       "    <tr style=\"text-align: right;\">\n",
       "      <th></th>\n",
       "      <th>sourceName</th>\n",
       "      <th>sourceVersion</th>\n",
       "      <th>device</th>\n",
       "      <th>type</th>\n",
       "      <th>unit</th>\n",
       "      <th>creationDate</th>\n",
       "      <th>startDate</th>\n",
       "      <th>endDate</th>\n",
       "      <th>value</th>\n",
       "    </tr>\n",
       "  </thead>\n",
       "  <tbody>\n",
       "    <tr>\n",
       "      <th>214198</th>\n",
       "      <td>Leeor’s Apple Watch</td>\n",
       "      <td>9.6.2</td>\n",
       "      <td>&lt;&lt;HKDevice: 0x28379f840&gt;, name:Apple Watch, ma...</td>\n",
       "      <td>StepCount</td>\n",
       "      <td>count</td>\n",
       "      <td>2023-09-15 14:11:06 -0400</td>\n",
       "      <td>2023-09-15 13:59:54 -0400</td>\n",
       "      <td>2023-09-15 14:08:32 -0400</td>\n",
       "      <td>202</td>\n",
       "    </tr>\n",
       "    <tr>\n",
       "      <th>214199</th>\n",
       "      <td>Leeor</td>\n",
       "      <td>16.6.1</td>\n",
       "      <td>&lt;&lt;HKDevice: 0x28379fd90&gt;, name:iPhone, manufac...</td>\n",
       "      <td>StepCount</td>\n",
       "      <td>count</td>\n",
       "      <td>2023-09-15 14:11:13 -0400</td>\n",
       "      <td>2023-09-15 14:00:11 -0400</td>\n",
       "      <td>2023-09-15 14:07:16 -0400</td>\n",
       "      <td>181</td>\n",
       "    </tr>\n",
       "    <tr>\n",
       "      <th>214200</th>\n",
       "      <td>Leeor’s Apple Watch</td>\n",
       "      <td>9.6.2</td>\n",
       "      <td>&lt;&lt;HKDevice: 0x28379f840&gt;, name:Apple Watch, ma...</td>\n",
       "      <td>StepCount</td>\n",
       "      <td>count</td>\n",
       "      <td>2023-09-15 14:22:38 -0400</td>\n",
       "      <td>2023-09-15 14:10:22 -0400</td>\n",
       "      <td>2023-09-15 14:20:09 -0400</td>\n",
       "      <td>266</td>\n",
       "    </tr>\n",
       "    <tr>\n",
       "      <th>214201</th>\n",
       "      <td>Leeor’s Apple Watch</td>\n",
       "      <td>9.6.2</td>\n",
       "      <td>&lt;&lt;HKDevice: 0x28379f840&gt;, name:Apple Watch, ma...</td>\n",
       "      <td>StepCount</td>\n",
       "      <td>count</td>\n",
       "      <td>2023-09-15 14:44:59 -0400</td>\n",
       "      <td>2023-09-15 14:32:43 -0400</td>\n",
       "      <td>2023-09-15 14:33:06 -0400</td>\n",
       "      <td>19</td>\n",
       "    </tr>\n",
       "    <tr>\n",
       "      <th>214202</th>\n",
       "      <td>Leeor</td>\n",
       "      <td>16.6.1</td>\n",
       "      <td>&lt;&lt;HKDevice: 0x28379fd90&gt;, name:iPhone, manufac...</td>\n",
       "      <td>StepCount</td>\n",
       "      <td>count</td>\n",
       "      <td>2023-09-15 14:24:14 -0400</td>\n",
       "      <td>2023-09-15 14:13:04 -0400</td>\n",
       "      <td>2023-09-15 14:19:51 -0400</td>\n",
       "      <td>249</td>\n",
       "    </tr>\n",
       "  </tbody>\n",
       "</table>\n",
       "</div>"
      ],
      "text/plain": [
       "                 sourceName sourceVersion  \\\n",
       "214198  Leeor’s Apple Watch         9.6.2   \n",
       "214199                Leeor        16.6.1   \n",
       "214200  Leeor’s Apple Watch         9.6.2   \n",
       "214201  Leeor’s Apple Watch         9.6.2   \n",
       "214202                Leeor        16.6.1   \n",
       "\n",
       "                                                   device       type   unit  \\\n",
       "214198  <<HKDevice: 0x28379f840>, name:Apple Watch, ma...  StepCount  count   \n",
       "214199  <<HKDevice: 0x28379fd90>, name:iPhone, manufac...  StepCount  count   \n",
       "214200  <<HKDevice: 0x28379f840>, name:Apple Watch, ma...  StepCount  count   \n",
       "214201  <<HKDevice: 0x28379f840>, name:Apple Watch, ma...  StepCount  count   \n",
       "214202  <<HKDevice: 0x28379fd90>, name:iPhone, manufac...  StepCount  count   \n",
       "\n",
       "                     creationDate                  startDate  \\\n",
       "214198  2023-09-15 14:11:06 -0400  2023-09-15 13:59:54 -0400   \n",
       "214199  2023-09-15 14:11:13 -0400  2023-09-15 14:00:11 -0400   \n",
       "214200  2023-09-15 14:22:38 -0400  2023-09-15 14:10:22 -0400   \n",
       "214201  2023-09-15 14:44:59 -0400  2023-09-15 14:32:43 -0400   \n",
       "214202  2023-09-15 14:24:14 -0400  2023-09-15 14:13:04 -0400   \n",
       "\n",
       "                          endDate  value  \n",
       "214198  2023-09-15 14:08:32 -0400    202  \n",
       "214199  2023-09-15 14:07:16 -0400    181  \n",
       "214200  2023-09-15 14:20:09 -0400    266  \n",
       "214201  2023-09-15 14:33:06 -0400     19  \n",
       "214202  2023-09-15 14:19:51 -0400    249  "
      ]
     },
     "execution_count": 4,
     "metadata": {},
     "output_type": "execute_result"
    }
   ],
   "source": [
    "steps.tail()"
   ]
  },
  {
   "cell_type": "code",
   "execution_count": 5,
   "metadata": {
    "collapsed": true
   },
   "outputs": [],
   "source": [
    "# parse out date and time elements as Eastern time\n",
    "steps['startDate'] = pd.to_datetime(steps['startDate'])\n",
    "steps['year'] = steps['startDate'].map(get_year)\n",
    "steps['month'] = steps['startDate'].map(get_month)\n",
    "steps['date'] = steps['startDate'].map(get_date)\n",
    "steps['day'] = steps['startDate'].map(get_day)\n",
    "steps['hour'] = steps['startDate'].map(get_hour)\n",
    "steps['dow'] = steps['startDate'].map(get_day_of_week)"
   ]
  },
  {
   "cell_type": "code",
   "execution_count": 6,
   "metadata": {},
   "outputs": [
    {
     "data": {
      "text/html": [
       "<div>\n",
       "<style scoped>\n",
       "    .dataframe tbody tr th:only-of-type {\n",
       "        vertical-align: middle;\n",
       "    }\n",
       "\n",
       "    .dataframe tbody tr th {\n",
       "        vertical-align: top;\n",
       "    }\n",
       "\n",
       "    .dataframe thead th {\n",
       "        text-align: right;\n",
       "    }\n",
       "</style>\n",
       "<table border=\"1\" class=\"dataframe\">\n",
       "  <thead>\n",
       "    <tr style=\"text-align: right;\">\n",
       "      <th></th>\n",
       "      <th>sourceName</th>\n",
       "      <th>sourceVersion</th>\n",
       "      <th>device</th>\n",
       "      <th>type</th>\n",
       "      <th>unit</th>\n",
       "      <th>creationDate</th>\n",
       "      <th>startDate</th>\n",
       "      <th>endDate</th>\n",
       "      <th>value</th>\n",
       "      <th>year</th>\n",
       "      <th>month</th>\n",
       "      <th>date</th>\n",
       "      <th>day</th>\n",
       "      <th>hour</th>\n",
       "      <th>dow</th>\n",
       "    </tr>\n",
       "  </thead>\n",
       "  <tbody>\n",
       "    <tr>\n",
       "      <th>0</th>\n",
       "      <td>Leeor</td>\n",
       "      <td>NaN</td>\n",
       "      <td>NaN</td>\n",
       "      <td>StepCount</td>\n",
       "      <td>count</td>\n",
       "      <td>2015-08-15 23:31:20 -0400</td>\n",
       "      <td>2015-08-15 21:32:36-04:00</td>\n",
       "      <td>2015-08-15 21:37:16 -0400</td>\n",
       "      <td>119</td>\n",
       "      <td>2015</td>\n",
       "      <td>2015-08</td>\n",
       "      <td>2015-08-15</td>\n",
       "      <td>15</td>\n",
       "      <td>17</td>\n",
       "      <td>5</td>\n",
       "    </tr>\n",
       "    <tr>\n",
       "      <th>1</th>\n",
       "      <td>Leeor</td>\n",
       "      <td>NaN</td>\n",
       "      <td>NaN</td>\n",
       "      <td>StepCount</td>\n",
       "      <td>count</td>\n",
       "      <td>2015-08-15 23:31:20 -0400</td>\n",
       "      <td>2015-08-15 22:20:21-04:00</td>\n",
       "      <td>2015-08-15 22:22:06 -0400</td>\n",
       "      <td>94</td>\n",
       "      <td>2015</td>\n",
       "      <td>2015-08</td>\n",
       "      <td>2015-08-15</td>\n",
       "      <td>15</td>\n",
       "      <td>18</td>\n",
       "      <td>5</td>\n",
       "    </tr>\n",
       "    <tr>\n",
       "      <th>2</th>\n",
       "      <td>Leeor</td>\n",
       "      <td>NaN</td>\n",
       "      <td>NaN</td>\n",
       "      <td>StepCount</td>\n",
       "      <td>count</td>\n",
       "      <td>2015-08-15 23:31:20 -0400</td>\n",
       "      <td>2015-08-15 22:30:16-04:00</td>\n",
       "      <td>2015-08-15 22:31:11 -0400</td>\n",
       "      <td>69</td>\n",
       "      <td>2015</td>\n",
       "      <td>2015-08</td>\n",
       "      <td>2015-08-15</td>\n",
       "      <td>15</td>\n",
       "      <td>18</td>\n",
       "      <td>5</td>\n",
       "    </tr>\n",
       "    <tr>\n",
       "      <th>3</th>\n",
       "      <td>Leeor</td>\n",
       "      <td>NaN</td>\n",
       "      <td>NaN</td>\n",
       "      <td>StepCount</td>\n",
       "      <td>count</td>\n",
       "      <td>2015-08-15 23:31:20 -0400</td>\n",
       "      <td>2015-08-15 23:20:02-04:00</td>\n",
       "      <td>2015-08-15 23:25:03 -0400</td>\n",
       "      <td>186</td>\n",
       "      <td>2015</td>\n",
       "      <td>2015-08</td>\n",
       "      <td>2015-08-15</td>\n",
       "      <td>15</td>\n",
       "      <td>19</td>\n",
       "      <td>5</td>\n",
       "    </tr>\n",
       "    <tr>\n",
       "      <th>4</th>\n",
       "      <td>Leeor</td>\n",
       "      <td>NaN</td>\n",
       "      <td>NaN</td>\n",
       "      <td>StepCount</td>\n",
       "      <td>count</td>\n",
       "      <td>2015-08-15 23:31:20 -0400</td>\n",
       "      <td>2015-08-15 23:25:03-04:00</td>\n",
       "      <td>2015-08-15 23:30:13 -0400</td>\n",
       "      <td>138</td>\n",
       "      <td>2015</td>\n",
       "      <td>2015-08</td>\n",
       "      <td>2015-08-15</td>\n",
       "      <td>15</td>\n",
       "      <td>19</td>\n",
       "      <td>5</td>\n",
       "    </tr>\n",
       "  </tbody>\n",
       "</table>\n",
       "</div>"
      ],
      "text/plain": [
       "  sourceName sourceVersion device       type   unit  \\\n",
       "0      Leeor           NaN    NaN  StepCount  count   \n",
       "1      Leeor           NaN    NaN  StepCount  count   \n",
       "2      Leeor           NaN    NaN  StepCount  count   \n",
       "3      Leeor           NaN    NaN  StepCount  count   \n",
       "4      Leeor           NaN    NaN  StepCount  count   \n",
       "\n",
       "                creationDate                 startDate  \\\n",
       "0  2015-08-15 23:31:20 -0400 2015-08-15 21:32:36-04:00   \n",
       "1  2015-08-15 23:31:20 -0400 2015-08-15 22:20:21-04:00   \n",
       "2  2015-08-15 23:31:20 -0400 2015-08-15 22:30:16-04:00   \n",
       "3  2015-08-15 23:31:20 -0400 2015-08-15 23:20:02-04:00   \n",
       "4  2015-08-15 23:31:20 -0400 2015-08-15 23:25:03-04:00   \n",
       "\n",
       "                     endDate  value  year    month        date  day  hour  dow  \n",
       "0  2015-08-15 21:37:16 -0400    119  2015  2015-08  2015-08-15   15    17    5  \n",
       "1  2015-08-15 22:22:06 -0400     94  2015  2015-08  2015-08-15   15    18    5  \n",
       "2  2015-08-15 22:31:11 -0400     69  2015  2015-08  2015-08-15   15    18    5  \n",
       "3  2015-08-15 23:25:03 -0400    186  2015  2015-08  2015-08-15   15    19    5  \n",
       "4  2015-08-15 23:30:13 -0400    138  2015  2015-08  2015-08-15   15    19    5  "
      ]
     },
     "execution_count": 6,
     "metadata": {},
     "output_type": "execute_result"
    }
   ],
   "source": [
    "steps.head()"
   ]
  },
  {
   "cell_type": "code",
   "execution_count": 7,
   "metadata": {},
   "outputs": [
    {
     "data": {
      "text/plain": [
       "Index(['sourceName', 'sourceVersion', 'device', 'type', 'unit', 'creationDate',\n",
       "       'startDate', 'endDate', 'value', 'year', 'month', 'date', 'day', 'hour',\n",
       "       'dow'],\n",
       "      dtype='object')"
      ]
     },
     "execution_count": 7,
     "metadata": {},
     "output_type": "execute_result"
    }
   ],
   "source": [
    "steps.columns"
   ]
  },
  {
   "cell_type": "code",
   "execution_count": 8,
   "metadata": {},
   "outputs": [],
   "source": [
    "steps_by_date = steps.groupby(['date'])['value'].sum().reset_index(name='Steps')"
   ]
  },
  {
   "cell_type": "code",
   "execution_count": 9,
   "metadata": {},
   "outputs": [
    {
     "data": {
      "text/html": [
       "<div>\n",
       "<style scoped>\n",
       "    .dataframe tbody tr th:only-of-type {\n",
       "        vertical-align: middle;\n",
       "    }\n",
       "\n",
       "    .dataframe tbody tr th {\n",
       "        vertical-align: top;\n",
       "    }\n",
       "\n",
       "    .dataframe thead th {\n",
       "        text-align: right;\n",
       "    }\n",
       "</style>\n",
       "<table border=\"1\" class=\"dataframe\">\n",
       "  <thead>\n",
       "    <tr style=\"text-align: right;\">\n",
       "      <th></th>\n",
       "      <th>date</th>\n",
       "      <th>Steps</th>\n",
       "    </tr>\n",
       "  </thead>\n",
       "  <tbody>\n",
       "    <tr>\n",
       "      <th>2797</th>\n",
       "      <td>2023-09-11</td>\n",
       "      <td>9501</td>\n",
       "    </tr>\n",
       "    <tr>\n",
       "      <th>2798</th>\n",
       "      <td>2023-09-12</td>\n",
       "      <td>11620</td>\n",
       "    </tr>\n",
       "    <tr>\n",
       "      <th>2799</th>\n",
       "      <td>2023-09-13</td>\n",
       "      <td>5852</td>\n",
       "    </tr>\n",
       "    <tr>\n",
       "      <th>2800</th>\n",
       "      <td>2023-09-14</td>\n",
       "      <td>9059</td>\n",
       "    </tr>\n",
       "    <tr>\n",
       "      <th>2801</th>\n",
       "      <td>2023-09-15</td>\n",
       "      <td>2600</td>\n",
       "    </tr>\n",
       "  </tbody>\n",
       "</table>\n",
       "</div>"
      ],
      "text/plain": [
       "            date  Steps\n",
       "2797  2023-09-11   9501\n",
       "2798  2023-09-12  11620\n",
       "2799  2023-09-13   5852\n",
       "2800  2023-09-14   9059\n",
       "2801  2023-09-15   2600"
      ]
     },
     "execution_count": 9,
     "metadata": {},
     "output_type": "execute_result"
    }
   ],
   "source": [
    "steps_by_date.tail()"
   ]
  },
  {
   "cell_type": "code",
   "execution_count": 10,
   "metadata": {
    "collapsed": true
   },
   "outputs": [],
   "source": [
    "# steps_by_date.tail(10)\n",
    "steps_by_date.to_csv(\"data/steps_per_day.csv\", index=False)"
   ]
  },
  {
   "cell_type": "markdown",
   "metadata": {},
   "source": [
    "-----"
   ]
  },
  {
   "cell_type": "markdown",
   "metadata": {},
   "source": [
    "### Use Only Watch Steps, Remove Phone Steps"
   ]
  },
  {
   "cell_type": "code",
   "execution_count": 11,
   "metadata": {
    "collapsed": true
   },
   "outputs": [],
   "source": [
    "steps_device_by_year = steps.groupby(['year', 'sourceName'])['value'].sum().reset_index(name='Steps')"
   ]
  },
  {
   "cell_type": "code",
   "execution_count": 12,
   "metadata": {},
   "outputs": [
    {
     "data": {
      "text/html": [
       "<div>\n",
       "<style scoped>\n",
       "    .dataframe tbody tr th:only-of-type {\n",
       "        vertical-align: middle;\n",
       "    }\n",
       "\n",
       "    .dataframe tbody tr th {\n",
       "        vertical-align: top;\n",
       "    }\n",
       "\n",
       "    .dataframe thead th {\n",
       "        text-align: right;\n",
       "    }\n",
       "</style>\n",
       "<table border=\"1\" class=\"dataframe\">\n",
       "  <thead>\n",
       "    <tr style=\"text-align: right;\">\n",
       "      <th></th>\n",
       "      <th>year</th>\n",
       "      <th>sourceName</th>\n",
       "      <th>Steps</th>\n",
       "    </tr>\n",
       "  </thead>\n",
       "  <tbody>\n",
       "    <tr>\n",
       "      <th>0</th>\n",
       "      <td>2015</td>\n",
       "      <td>Leeor</td>\n",
       "      <td>624781</td>\n",
       "    </tr>\n",
       "    <tr>\n",
       "      <th>1</th>\n",
       "      <td>2016</td>\n",
       "      <td>Leeor</td>\n",
       "      <td>1613427</td>\n",
       "    </tr>\n",
       "    <tr>\n",
       "      <th>2</th>\n",
       "      <td>2017</td>\n",
       "      <td>Leeor</td>\n",
       "      <td>960648</td>\n",
       "    </tr>\n",
       "    <tr>\n",
       "      <th>3</th>\n",
       "      <td>2018</td>\n",
       "      <td>Leeor</td>\n",
       "      <td>2061604</td>\n",
       "    </tr>\n",
       "    <tr>\n",
       "      <th>4</th>\n",
       "      <td>2019</td>\n",
       "      <td>Leeor</td>\n",
       "      <td>2350016</td>\n",
       "    </tr>\n",
       "    <tr>\n",
       "      <th>5</th>\n",
       "      <td>2020</td>\n",
       "      <td>Leeor</td>\n",
       "      <td>1764226</td>\n",
       "    </tr>\n",
       "    <tr>\n",
       "      <th>6</th>\n",
       "      <td>2020</td>\n",
       "      <td>Leeor’s Apple Watch</td>\n",
       "      <td>1745626</td>\n",
       "    </tr>\n",
       "    <tr>\n",
       "      <th>7</th>\n",
       "      <td>2021</td>\n",
       "      <td>Leeor</td>\n",
       "      <td>2267624</td>\n",
       "    </tr>\n",
       "    <tr>\n",
       "      <th>8</th>\n",
       "      <td>2021</td>\n",
       "      <td>Leeor’s Apple Watch</td>\n",
       "      <td>2179916</td>\n",
       "    </tr>\n",
       "    <tr>\n",
       "      <th>9</th>\n",
       "      <td>2022</td>\n",
       "      <td>Leeor</td>\n",
       "      <td>2489409</td>\n",
       "    </tr>\n",
       "    <tr>\n",
       "      <th>10</th>\n",
       "      <td>2022</td>\n",
       "      <td>Leeor’s Apple Watch</td>\n",
       "      <td>2550794</td>\n",
       "    </tr>\n",
       "    <tr>\n",
       "      <th>11</th>\n",
       "      <td>2023</td>\n",
       "      <td>Leeor</td>\n",
       "      <td>1438427</td>\n",
       "    </tr>\n",
       "    <tr>\n",
       "      <th>12</th>\n",
       "      <td>2023</td>\n",
       "      <td>Leeor’s Apple Watch</td>\n",
       "      <td>1540804</td>\n",
       "    </tr>\n",
       "  </tbody>\n",
       "</table>\n",
       "</div>"
      ],
      "text/plain": [
       "    year           sourceName    Steps\n",
       "0   2015                Leeor   624781\n",
       "1   2016                Leeor  1613427\n",
       "2   2017                Leeor   960648\n",
       "3   2018                Leeor  2061604\n",
       "4   2019                Leeor  2350016\n",
       "5   2020                Leeor  1764226\n",
       "6   2020  Leeor’s Apple Watch  1745626\n",
       "7   2021                Leeor  2267624\n",
       "8   2021  Leeor’s Apple Watch  2179916\n",
       "9   2022                Leeor  2489409\n",
       "10  2022  Leeor’s Apple Watch  2550794\n",
       "11  2023                Leeor  1438427\n",
       "12  2023  Leeor’s Apple Watch  1540804"
      ]
     },
     "execution_count": 12,
     "metadata": {},
     "output_type": "execute_result"
    }
   ],
   "source": [
    "steps_device_by_year"
   ]
  },
  {
   "cell_type": "code",
   "execution_count": 13,
   "metadata": {},
   "outputs": [
    {
     "data": {
      "text/plain": [
       "array(['Leeor', 'Leeor’s Apple\\xa0Watch'], dtype=object)"
      ]
     },
     "execution_count": 13,
     "metadata": {},
     "output_type": "execute_result"
    }
   ],
   "source": [
    "steps.sourceName.unique()"
   ]
  },
  {
   "cell_type": "code",
   "execution_count": 14,
   "metadata": {
    "collapsed": true
   },
   "outputs": [],
   "source": [
    "# drop phone steps\n",
    "steps = steps[steps.sourceName == 'Leeor’s Apple\\xa0Watch']\n",
    "# steps.head()"
   ]
  },
  {
   "cell_type": "markdown",
   "metadata": {},
   "source": [
    "## Rolling Average"
   ]
  },
  {
   "cell_type": "code",
   "execution_count": 15,
   "metadata": {},
   "outputs": [
    {
     "data": {
      "text/plain": [
       "<AxesSubplot:title={'center':'Daily step counts rolling mean over 10 days'}, xlabel='date'>"
      ]
     },
     "execution_count": 15,
     "metadata": {},
     "output_type": "execute_result"
    },
    {
     "data": {
      "image/png": "[encoded data removed]",
      "text/plain": [
       "<Figure size 720x432 with 1 Axes>"
      ]
     },
     "metadata": {
      "needs_background": "light"
     },
     "output_type": "display_data"
    }
   ],
   "source": [
    "steps_by_date['RollingMeanSteps'] = steps_by_date.Steps.rolling(window=10, center=True).mean()\n",
    "steps_by_date.plot(x='date', y='RollingMeanSteps', title= 'Daily step counts rolling mean over 10 days', figsize=[10, 6])"
   ]
  },
  {
   "cell_type": "markdown",
   "metadata": {},
   "source": [
    "## Steps by Day of Week"
   ]
  },
  {
   "cell_type": "code",
   "execution_count": 16,
   "metadata": {},
   "outputs": [],
   "source": [
    "steps_by_date['date'] = pd.to_datetime(steps_by_date['date'])\n",
    "steps_by_date['dow'] = steps_by_date['date'].dt.weekday"
   ]
  },
  {
   "cell_type": "code",
   "execution_count": 17,
   "metadata": {},
   "outputs": [
    {
     "data": {
      "text/plain": [
       "Text(0.5, 0, 'Day of Week')"
      ]
     },
     "execution_count": 17,
     "metadata": {},
     "output_type": "execute_result"
    },
    {
     "data": {
      "image/png": "[encoded data removed]",
      "text/plain": [
       "<Figure size 720x432 with 1 Axes>"
      ]
     },
     "metadata": {
      "needs_background": "light"
     },
     "output_type": "display_data"
    }
   ],
   "source": [
    "data = steps_by_date.groupby(['dow'])['Steps'].mean()\n",
    "\n",
    "fig, ax = plt.subplots(figsize=[10, 6])\n",
    "ax = data.plot(kind='bar', x='day_of_week')\n",
    "\n",
    "n_groups = len(data)\n",
    "index = np.arange(n_groups)\n",
    "opacity = 0.75\n",
    "\n",
    "#fig, ax = plt.subplots(figsize=[10, 6])\n",
    "ax.yaxis.grid(True)\n",
    "\n",
    "plt.suptitle('Average Steps by Day of the Week', fontsize=16)\n",
    "dow_labels = ['Monday', 'Tuesday', 'Wednesday', 'Thursday', 'Friday', 'Saturday', 'Sunday']\n",
    "plt.xticks(index, dow_labels, rotation=45)\n",
    "plt.xlabel('Day of Week', fontsize=12, color='red')"
   ]
  },
  {
   "cell_type": "markdown",
   "metadata": {},
   "source": [
    "------"
   ]
  },
  {
   "cell_type": "markdown",
   "metadata": {},
   "source": [
    "## Monthly Steps"
   ]
  },
  {
   "cell_type": "code",
   "execution_count": 18,
   "metadata": {
    "collapsed": true
   },
   "outputs": [],
   "source": [
    "total_steps_by_month = steps.groupby(['month'])['value'].sum().reset_index(name='Steps')"
   ]
  },
  {
   "cell_type": "code",
   "execution_count": 19,
   "metadata": {},
   "outputs": [
    {
     "data": {
      "text/html": [
       "<div>\n",
       "<style scoped>\n",
       "    .dataframe tbody tr th:only-of-type {\n",
       "        vertical-align: middle;\n",
       "    }\n",
       "\n",
       "    .dataframe tbody tr th {\n",
       "        vertical-align: top;\n",
       "    }\n",
       "\n",
       "    .dataframe thead th {\n",
       "        text-align: right;\n",
       "    }\n",
       "</style>\n",
       "<table border=\"1\" class=\"dataframe\">\n",
       "  <thead>\n",
       "    <tr style=\"text-align: right;\">\n",
       "      <th></th>\n",
       "      <th>month</th>\n",
       "      <th>Steps</th>\n",
       "    </tr>\n",
       "  </thead>\n",
       "  <tbody>\n",
       "    <tr>\n",
       "      <th>0</th>\n",
       "      <td>2020-01</td>\n",
       "      <td>214368</td>\n",
       "    </tr>\n",
       "    <tr>\n",
       "      <th>1</th>\n",
       "      <td>2020-02</td>\n",
       "      <td>185335</td>\n",
       "    </tr>\n",
       "    <tr>\n",
       "      <th>2</th>\n",
       "      <td>2020-03</td>\n",
       "      <td>134975</td>\n",
       "    </tr>\n",
       "    <tr>\n",
       "      <th>3</th>\n",
       "      <td>2020-04</td>\n",
       "      <td>133381</td>\n",
       "    </tr>\n",
       "    <tr>\n",
       "      <th>4</th>\n",
       "      <td>2020-05</td>\n",
       "      <td>163140</td>\n",
       "    </tr>\n",
       "    <tr>\n",
       "      <th>5</th>\n",
       "      <td>2020-06</td>\n",
       "      <td>181326</td>\n",
       "    </tr>\n",
       "    <tr>\n",
       "      <th>6</th>\n",
       "      <td>2020-07</td>\n",
       "      <td>190176</td>\n",
       "    </tr>\n",
       "    <tr>\n",
       "      <th>7</th>\n",
       "      <td>2020-08</td>\n",
       "      <td>76383</td>\n",
       "    </tr>\n",
       "    <tr>\n",
       "      <th>8</th>\n",
       "      <td>2020-09</td>\n",
       "      <td>105516</td>\n",
       "    </tr>\n",
       "    <tr>\n",
       "      <th>9</th>\n",
       "      <td>2020-10</td>\n",
       "      <td>127512</td>\n",
       "    </tr>\n",
       "    <tr>\n",
       "      <th>10</th>\n",
       "      <td>2020-11</td>\n",
       "      <td>133522</td>\n",
       "    </tr>\n",
       "    <tr>\n",
       "      <th>11</th>\n",
       "      <td>2020-12</td>\n",
       "      <td>99992</td>\n",
       "    </tr>\n",
       "    <tr>\n",
       "      <th>12</th>\n",
       "      <td>2021-01</td>\n",
       "      <td>182637</td>\n",
       "    </tr>\n",
       "    <tr>\n",
       "      <th>13</th>\n",
       "      <td>2021-02</td>\n",
       "      <td>227474</td>\n",
       "    </tr>\n",
       "    <tr>\n",
       "      <th>14</th>\n",
       "      <td>2021-03</td>\n",
       "      <td>151740</td>\n",
       "    </tr>\n",
       "    <tr>\n",
       "      <th>15</th>\n",
       "      <td>2021-04</td>\n",
       "      <td>115224</td>\n",
       "    </tr>\n",
       "    <tr>\n",
       "      <th>16</th>\n",
       "      <td>2021-05</td>\n",
       "      <td>151724</td>\n",
       "    </tr>\n",
       "    <tr>\n",
       "      <th>17</th>\n",
       "      <td>2021-06</td>\n",
       "      <td>168773</td>\n",
       "    </tr>\n",
       "    <tr>\n",
       "      <th>18</th>\n",
       "      <td>2021-07</td>\n",
       "      <td>237387</td>\n",
       "    </tr>\n",
       "    <tr>\n",
       "      <th>19</th>\n",
       "      <td>2021-08</td>\n",
       "      <td>220232</td>\n",
       "    </tr>\n",
       "    <tr>\n",
       "      <th>20</th>\n",
       "      <td>2021-09</td>\n",
       "      <td>165983</td>\n",
       "    </tr>\n",
       "    <tr>\n",
       "      <th>21</th>\n",
       "      <td>2021-10</td>\n",
       "      <td>196438</td>\n",
       "    </tr>\n",
       "    <tr>\n",
       "      <th>22</th>\n",
       "      <td>2021-11</td>\n",
       "      <td>181408</td>\n",
       "    </tr>\n",
       "    <tr>\n",
       "      <th>23</th>\n",
       "      <td>2021-12</td>\n",
       "      <td>180896</td>\n",
       "    </tr>\n",
       "    <tr>\n",
       "      <th>24</th>\n",
       "      <td>2022-01</td>\n",
       "      <td>208132</td>\n",
       "    </tr>\n",
       "    <tr>\n",
       "      <th>25</th>\n",
       "      <td>2022-02</td>\n",
       "      <td>201372</td>\n",
       "    </tr>\n",
       "    <tr>\n",
       "      <th>26</th>\n",
       "      <td>2022-03</td>\n",
       "      <td>208282</td>\n",
       "    </tr>\n",
       "    <tr>\n",
       "      <th>27</th>\n",
       "      <td>2022-04</td>\n",
       "      <td>157208</td>\n",
       "    </tr>\n",
       "    <tr>\n",
       "      <th>28</th>\n",
       "      <td>2022-05</td>\n",
       "      <td>257179</td>\n",
       "    </tr>\n",
       "    <tr>\n",
       "      <th>29</th>\n",
       "      <td>2022-06</td>\n",
       "      <td>281415</td>\n",
       "    </tr>\n",
       "    <tr>\n",
       "      <th>30</th>\n",
       "      <td>2022-07</td>\n",
       "      <td>241620</td>\n",
       "    </tr>\n",
       "    <tr>\n",
       "      <th>31</th>\n",
       "      <td>2022-08</td>\n",
       "      <td>240753</td>\n",
       "    </tr>\n",
       "    <tr>\n",
       "      <th>32</th>\n",
       "      <td>2022-09</td>\n",
       "      <td>235520</td>\n",
       "    </tr>\n",
       "    <tr>\n",
       "      <th>33</th>\n",
       "      <td>2022-10</td>\n",
       "      <td>191179</td>\n",
       "    </tr>\n",
       "    <tr>\n",
       "      <th>34</th>\n",
       "      <td>2022-11</td>\n",
       "      <td>157532</td>\n",
       "    </tr>\n",
       "    <tr>\n",
       "      <th>35</th>\n",
       "      <td>2022-12</td>\n",
       "      <td>170602</td>\n",
       "    </tr>\n",
       "    <tr>\n",
       "      <th>36</th>\n",
       "      <td>2023-01</td>\n",
       "      <td>163254</td>\n",
       "    </tr>\n",
       "    <tr>\n",
       "      <th>37</th>\n",
       "      <td>2023-02</td>\n",
       "      <td>198275</td>\n",
       "    </tr>\n",
       "    <tr>\n",
       "      <th>38</th>\n",
       "      <td>2023-03</td>\n",
       "      <td>221435</td>\n",
       "    </tr>\n",
       "    <tr>\n",
       "      <th>39</th>\n",
       "      <td>2023-04</td>\n",
       "      <td>190131</td>\n",
       "    </tr>\n",
       "    <tr>\n",
       "      <th>40</th>\n",
       "      <td>2023-05</td>\n",
       "      <td>95971</td>\n",
       "    </tr>\n",
       "    <tr>\n",
       "      <th>41</th>\n",
       "      <td>2023-06</td>\n",
       "      <td>178241</td>\n",
       "    </tr>\n",
       "    <tr>\n",
       "      <th>42</th>\n",
       "      <td>2023-07</td>\n",
       "      <td>221437</td>\n",
       "    </tr>\n",
       "    <tr>\n",
       "      <th>43</th>\n",
       "      <td>2023-08</td>\n",
       "      <td>181299</td>\n",
       "    </tr>\n",
       "    <tr>\n",
       "      <th>44</th>\n",
       "      <td>2023-09</td>\n",
       "      <td>90761</td>\n",
       "    </tr>\n",
       "  </tbody>\n",
       "</table>\n",
       "</div>"
      ],
      "text/plain": [
       "      month   Steps\n",
       "0   2020-01  214368\n",
       "1   2020-02  185335\n",
       "2   2020-03  134975\n",
       "3   2020-04  133381\n",
       "4   2020-05  163140\n",
       "5   2020-06  181326\n",
       "6   2020-07  190176\n",
       "7   2020-08   76383\n",
       "8   2020-09  105516\n",
       "9   2020-10  127512\n",
       "10  2020-11  133522\n",
       "11  2020-12   99992\n",
       "12  2021-01  182637\n",
       "13  2021-02  227474\n",
       "14  2021-03  151740\n",
       "15  2021-04  115224\n",
       "16  2021-05  151724\n",
       "17  2021-06  168773\n",
       "18  2021-07  237387\n",
       "19  2021-08  220232\n",
       "20  2021-09  165983\n",
       "21  2021-10  196438\n",
       "22  2021-11  181408\n",
       "23  2021-12  180896\n",
       "24  2022-01  208132\n",
       "25  2022-02  201372\n",
       "26  2022-03  208282\n",
       "27  2022-04  157208\n",
       "28  2022-05  257179\n",
       "29  2022-06  281415\n",
       "30  2022-07  241620\n",
       "31  2022-08  240753\n",
       "32  2022-09  235520\n",
       "33  2022-10  191179\n",
       "34  2022-11  157532\n",
       "35  2022-12  170602\n",
       "36  2023-01  163254\n",
       "37  2023-02  198275\n",
       "38  2023-03  221435\n",
       "39  2023-04  190131\n",
       "40  2023-05   95971\n",
       "41  2023-06  178241\n",
       "42  2023-07  221437\n",
       "43  2023-08  181299\n",
       "44  2023-09   90761"
      ]
     },
     "execution_count": 19,
     "metadata": {},
     "output_type": "execute_result"
    }
   ],
   "source": [
    "total_steps_by_month"
   ]
  },
  {
   "cell_type": "code",
   "execution_count": 20,
   "metadata": {},
   "outputs": [
    {
     "data": {
      "image/png": "[encoded data removed]",
      "text/plain": [
       "<Figure size 864x360 with 1 Axes>"
      ]
     },
     "metadata": {
      "needs_background": "light"
     },
     "output_type": "display_data"
    }
   ],
   "source": [
    "# a bit of a hackish solution, could use improvement\n",
    "dataset = total_steps_by_month\n",
    "chart_title = 'Number of Steps per month'\n",
    "\n",
    "n_groups = len(dataset)\n",
    "index = np.arange(n_groups)\n",
    "\n",
    "ax = dataset.plot(kind='line', figsize=[12, 5], linewidth=4, alpha=1, marker='o', color='#6684c1', \n",
    "                      markeredgecolor='#6684c1', markerfacecolor='w', markersize=8, markeredgewidth=2)\n",
    "\n",
    "# ax.set_xlim((year_counts.index[0], year_counts.index[-1]))\n",
    "\n",
    "ax.yaxis.grid(True)\n",
    "ax.xaxis.grid(True)\n",
    "# ax.set_ylim(0, 1000)\n",
    "ax.set_xticks(index)\n",
    "ax.set_ylabel('Step Count')\n",
    "# ax.set_xlabel('')\n",
    "plt.xticks(index, dataset.month, rotation=90)\n",
    "ax.set_title(chart_title)\n",
    "\n",
    "plt.show()"
   ]
  },
  {
   "cell_type": "markdown",
   "metadata": {},
   "source": [
    "----"
   ]
  },
  {
   "cell_type": "markdown",
   "metadata": {},
   "source": [
    "## Steps Per Year"
   ]
  },
  {
   "cell_type": "code",
   "execution_count": 21,
   "metadata": {
    "collapsed": true
   },
   "outputs": [],
   "source": [
    "total_steps_by_years = steps.groupby(['year'])['value'].sum().reset_index(name='Steps')"
   ]
  },
  {
   "cell_type": "code",
   "execution_count": 22,
   "metadata": {},
   "outputs": [
    {
     "data": {
      "text/html": [
       "<div>\n",
       "<style scoped>\n",
       "    .dataframe tbody tr th:only-of-type {\n",
       "        vertical-align: middle;\n",
       "    }\n",
       "\n",
       "    .dataframe tbody tr th {\n",
       "        vertical-align: top;\n",
       "    }\n",
       "\n",
       "    .dataframe thead th {\n",
       "        text-align: right;\n",
       "    }\n",
       "</style>\n",
       "<table border=\"1\" class=\"dataframe\">\n",
       "  <thead>\n",
       "    <tr style=\"text-align: right;\">\n",
       "      <th></th>\n",
       "      <th>year</th>\n",
       "      <th>Steps</th>\n",
       "    </tr>\n",
       "  </thead>\n",
       "  <tbody>\n",
       "    <tr>\n",
       "      <th>0</th>\n",
       "      <td>2020</td>\n",
       "      <td>1745626</td>\n",
       "    </tr>\n",
       "    <tr>\n",
       "      <th>1</th>\n",
       "      <td>2021</td>\n",
       "      <td>2179916</td>\n",
       "    </tr>\n",
       "    <tr>\n",
       "      <th>2</th>\n",
       "      <td>2022</td>\n",
       "      <td>2550794</td>\n",
       "    </tr>\n",
       "    <tr>\n",
       "      <th>3</th>\n",
       "      <td>2023</td>\n",
       "      <td>1540804</td>\n",
       "    </tr>\n",
       "  </tbody>\n",
       "</table>\n",
       "</div>"
      ],
      "text/plain": [
       "   year    Steps\n",
       "0  2020  1745626\n",
       "1  2021  2179916\n",
       "2  2022  2550794\n",
       "3  2023  1540804"
      ]
     },
     "execution_count": 22,
     "metadata": {},
     "output_type": "execute_result"
    }
   ],
   "source": [
    "total_steps_by_years"
   ]
  },
  {
   "cell_type": "code",
   "execution_count": 23,
   "metadata": {},
   "outputs": [
    {
     "data": {
      "image/png": "[encoded data removed]",
      "text/plain": [
       "<Figure size 720x432 with 1 Axes>"
      ]
     },
     "metadata": {
      "needs_background": "light"
     },
     "output_type": "display_data"
    }
   ],
   "source": [
    "dataset = total_steps_by_years\n",
    "\n",
    "n_groups = len(dataset)\n",
    "opacity = 0.5\n",
    "fig, ax = plt.subplots(figsize=[10, 6])\n",
    "ax.yaxis.grid(True)\n",
    "index = np.arange(n_groups)\n",
    "bar_width = 0.4\n",
    "\n",
    "data = plt.bar(index, dataset.Steps, bar_width,\n",
    "                 alpha=opacity,\n",
    "                 color='c',\n",
    "                 label='Steps')\n",
    "\n",
    "data[-1].set_color('r')\n",
    "\n",
    "plt.ylabel('Steps')\n",
    "plt.title('Total Steps Per Year')\n",
    "plt.xticks(index, dataset.year, rotation=45)\n",
    "plt.legend()\n",
    "\n",
    "plt.tight_layout()\n",
    "plt.show()"
   ]
  },
  {
   "cell_type": "markdown",
   "metadata": {},
   "source": [
    "-----"
   ]
  },
  {
   "cell_type": "markdown",
   "metadata": {},
   "source": [
    "## Steps by Hour of Day"
   ]
  },
  {
   "cell_type": "code",
   "execution_count": 24,
   "metadata": {
    "collapsed": true
   },
   "outputs": [],
   "source": [
    "hour_steps = steps.groupby(['hour'])['value'].sum().reset_index(name='Steps')"
   ]
  },
  {
   "cell_type": "code",
   "execution_count": 25,
   "metadata": {
    "collapsed": true
   },
   "outputs": [],
   "source": [
    "# hour_steps"
   ]
  },
  {
   "cell_type": "code",
   "execution_count": 26,
   "metadata": {},
   "outputs": [
    {
     "data": {
      "image/png": "[encoded data removed]",
      "text/plain": [
       "<Figure size 720x360 with 1 Axes>"
      ]
     },
     "metadata": {
      "needs_background": "light"
     },
     "output_type": "display_data"
    }
   ],
   "source": [
    "ax = hour_steps.Steps.plot(kind='line', figsize=[10, 5], linewidth=4, alpha=1, marker='o', color='#6684c1', \n",
    "                      markeredgecolor='#6684c1', markerfacecolor='w', markersize=8, markeredgewidth=2)\n",
    "\n",
    "xlabels = hour_steps.index.map(lambda x: '{:02}:00'.format(x))\n",
    "ax.set_xticks(range(len(xlabels)))\n",
    "ax.set_xticklabels(xlabels, rotation=45, rotation_mode='anchor', ha='right')\n",
    "\n",
    "# ax.set_xlim((hour_steps.index[0], hour_steps.index[-1]))\n",
    "\n",
    "ax.yaxis.grid(True)\n",
    "# ax.set_ylim((0, 1300))\n",
    "ax.set_ylabel('Steps')\n",
    "ax.set_xlabel('')\n",
    "ax.set_title('Steps by hour the day')\n",
    "\n",
    "plt.show()"
   ]
  },
  {
   "cell_type": "markdown",
   "metadata": {},
   "source": [
    "-----"
   ]
  },
  {
   "cell_type": "code",
   "execution_count": 27,
   "metadata": {},
   "outputs": [],
   "source": [
    "weight = pd.read_csv(\"data/BodyMass.csv\")"
   ]
  },
  {
   "cell_type": "code",
   "execution_count": 28,
   "metadata": {},
   "outputs": [],
   "source": [
    "# weight.columns"
   ]
  },
  {
   "cell_type": "code",
   "execution_count": 29,
   "metadata": {},
   "outputs": [],
   "source": [
    "# parse out date and time elements as Eastern time\n",
    "weight['startDate'] = pd.to_datetime(weight['startDate'])\n",
    "weight['year'] = weight['startDate'].map(get_year)\n",
    "weight['month'] = weight['startDate'].map(get_month)\n",
    "weight['date'] = weight['startDate'].map(get_date)"
   ]
  },
  {
   "cell_type": "code",
   "execution_count": 30,
   "metadata": {},
   "outputs": [
    {
     "data": {
      "text/html": [
       "<div>\n",
       "<style scoped>\n",
       "    .dataframe tbody tr th:only-of-type {\n",
       "        vertical-align: middle;\n",
       "    }\n",
       "\n",
       "    .dataframe tbody tr th {\n",
       "        vertical-align: top;\n",
       "    }\n",
       "\n",
       "    .dataframe thead th {\n",
       "        text-align: right;\n",
       "    }\n",
       "</style>\n",
       "<table border=\"1\" class=\"dataframe\">\n",
       "  <thead>\n",
       "    <tr style=\"text-align: right;\">\n",
       "      <th></th>\n",
       "      <th>sourceName</th>\n",
       "      <th>sourceVersion</th>\n",
       "      <th>device</th>\n",
       "      <th>type</th>\n",
       "      <th>unit</th>\n",
       "      <th>creationDate</th>\n",
       "      <th>startDate</th>\n",
       "      <th>endDate</th>\n",
       "      <th>value</th>\n",
       "      <th>year</th>\n",
       "      <th>month</th>\n",
       "      <th>date</th>\n",
       "    </tr>\n",
       "  </thead>\n",
       "  <tbody>\n",
       "    <tr>\n",
       "      <th>0</th>\n",
       "      <td>Health</td>\n",
       "      <td>10.1.1</td>\n",
       "      <td>NaN</td>\n",
       "      <td>BodyMass</td>\n",
       "      <td>lb</td>\n",
       "      <td>2016-12-04 18:13:07 -0400</td>\n",
       "      <td>2016-12-04 18:13:07-04:00</td>\n",
       "      <td>2016-12-04 18:13:07 -0400</td>\n",
       "      <td>110</td>\n",
       "      <td>2016</td>\n",
       "      <td>2016-12</td>\n",
       "      <td>2016-12-04</td>\n",
       "    </tr>\n",
       "    <tr>\n",
       "      <th>1</th>\n",
       "      <td>Leeor</td>\n",
       "      <td>13.3</td>\n",
       "      <td>NaN</td>\n",
       "      <td>BodyMass</td>\n",
       "      <td>lb</td>\n",
       "      <td>2020-01-03 15:56:51 -0400</td>\n",
       "      <td>2020-01-03 15:56:51-04:00</td>\n",
       "      <td>2020-01-03 15:56:51 -0400</td>\n",
       "      <td>127</td>\n",
       "      <td>2020</td>\n",
       "      <td>2020-01</td>\n",
       "      <td>2020-01-03</td>\n",
       "    </tr>\n",
       "    <tr>\n",
       "      <th>2</th>\n",
       "      <td>Health</td>\n",
       "      <td>15.6.1</td>\n",
       "      <td>NaN</td>\n",
       "      <td>BodyMass</td>\n",
       "      <td>lb</td>\n",
       "      <td>2023-02-08 13:58:15 -0400</td>\n",
       "      <td>2023-02-08 13:58:00-04:00</td>\n",
       "      <td>2023-02-08 13:58:00 -0400</td>\n",
       "      <td>135</td>\n",
       "      <td>2023</td>\n",
       "      <td>2023-02</td>\n",
       "      <td>2023-02-08</td>\n",
       "    </tr>\n",
       "  </tbody>\n",
       "</table>\n",
       "</div>"
      ],
      "text/plain": [
       "  sourceName sourceVersion  device      type unit               creationDate  \\\n",
       "0     Health        10.1.1     NaN  BodyMass   lb  2016-12-04 18:13:07 -0400   \n",
       "1      Leeor          13.3     NaN  BodyMass   lb  2020-01-03 15:56:51 -0400   \n",
       "2     Health        15.6.1     NaN  BodyMass   lb  2023-02-08 13:58:15 -0400   \n",
       "\n",
       "                  startDate                    endDate  value  year    month  \\\n",
       "0 2016-12-04 18:13:07-04:00  2016-12-04 18:13:07 -0400    110  2016  2016-12   \n",
       "1 2020-01-03 15:56:51-04:00  2020-01-03 15:56:51 -0400    127  2020  2020-01   \n",
       "2 2023-02-08 13:58:00-04:00  2023-02-08 13:58:00 -0400    135  2023  2023-02   \n",
       "\n",
       "         date  \n",
       "0  2016-12-04  \n",
       "1  2020-01-03  \n",
       "2  2023-02-08  "
      ]
     },
     "execution_count": 30,
     "metadata": {},
     "output_type": "execute_result"
    }
   ],
   "source": [
    "weight.tail()"
   ]
  },
  {
   "cell_type": "code",
   "execution_count": 31,
   "metadata": {},
   "outputs": [],
   "source": [
    "month_weight = weight.groupby(['month'])['value'].mean().reset_index(name='Weight')"
   ]
  },
  {
   "cell_type": "code",
   "execution_count": 32,
   "metadata": {},
   "outputs": [],
   "source": [
    "# month_weight"
   ]
  },
  {
   "cell_type": "code",
   "execution_count": 33,
   "metadata": {},
   "outputs": [
    {
     "data": {
      "image/png": "[encoded data removed]",
      "text/plain": [
       "<Figure size 864x360 with 1 Axes>"
      ]
     },
     "metadata": {
      "needs_background": "light"
     },
     "output_type": "display_data"
    }
   ],
   "source": [
    "# a bit of a hackish solution, could use improvement\n",
    "dataset = month_weight\n",
    "chart_title = 'Monthly Weight'\n",
    "\n",
    "n_groups = len(dataset)\n",
    "index = np.arange(n_groups)\n",
    "\n",
    "ax = dataset.plot(kind='line', figsize=[12, 5], linewidth=4, alpha=1, marker='o', color='#6684c1', \n",
    "                      markeredgecolor='#6684c1', markerfacecolor='w', markersize=8, markeredgewidth=2)\n",
    "\n",
    "# ax.set_xlim((year_counts.index[0], year_counts.index[-1]))\n",
    "\n",
    "ax.yaxis.grid(True)\n",
    "ax.xaxis.grid(True)\n",
    "# ax.set_ylim(0, 1000)\n",
    "ax.set_xticks(index)\n",
    "ax.set_ylabel('Weight (lbs)')\n",
    "plt.xticks(index, dataset.month, rotation=90)\n",
    "ax.set_title(chart_title)\n",
    "\n",
    "plt.show()"
   ]
  },
  {
   "cell_type": "code",
   "execution_count": 34,
   "metadata": {},
   "outputs": [],
   "source": [
    "# convert to kg\n",
    "month_weight['kg'] = round(month_weight['Weight'] / 2.205, 2)"
   ]
  },
  {
   "cell_type": "code",
   "execution_count": 35,
   "metadata": {},
   "outputs": [
    {
     "data": {
      "text/plain": [
       "Index(['month', 'Weight', 'kg'], dtype='object')"
      ]
     },
     "execution_count": 35,
     "metadata": {},
     "output_type": "execute_result"
    }
   ],
   "source": [
    "month_weight.columns"
   ]
  },
  {
   "cell_type": "code",
   "execution_count": 36,
   "metadata": {},
   "outputs": [
    {
     "data": {
      "image/png": "[encoded data removed]",
      "text/plain": [
       "<Figure size 864x360 with 1 Axes>"
      ]
     },
     "metadata": {
      "needs_background": "light"
     },
     "output_type": "display_data"
    }
   ],
   "source": [
    "# a bit of a hackish solution, could use improvement\n",
    "dataset = month_weight[['month', 'kg']]\n",
    "chart_title = 'Monthly Weight'\n",
    "\n",
    "n_groups = len(dataset)\n",
    "index = np.arange(n_groups)\n",
    "\n",
    "ax = dataset.plot(kind='line', figsize=[12, 5], linewidth=4, alpha=1, marker='o', color='#6684c1', \n",
    "                      markeredgecolor='#6684c1', markerfacecolor='w', markersize=8, markeredgewidth=2)\n",
    "\n",
    "# ax.set_xlim((year_counts.index[0], year_counts.index[-1]))\n",
    "\n",
    "ax.yaxis.grid(True)\n",
    "ax.xaxis.grid(True)\n",
    "# ax.set_ylim(0, 1000)\n",
    "ax.set_xticks(index)\n",
    "ax.set_ylabel('Weight (kg)')\n",
    "plt.xticks(index, dataset.month, rotation=90)\n",
    "ax.set_title(chart_title)\n",
    "\n",
    "plt.show()"
   ]
  },
  {
   "cell_type": "markdown",
   "metadata": {},
   "source": [
    "## Heart Rate"
   ]
  },
  {
   "cell_type": "code",
   "execution_count": 37,
   "metadata": {
    "collapsed": true
   },
   "outputs": [
    {
     "data": {
      "text/plain": [
       "1225"
      ]
     },
     "execution_count": 37,
     "metadata": {},
     "output_type": "execute_result"
    }
   ],
   "source": [
    "resting = pd.read_csv(\"data/RestingHeartRate.csv\")\n",
    "len(resting)"
   ]
  },
  {
   "cell_type": "code",
   "execution_count": 38,
   "metadata": {},
   "outputs": [
    {
     "data": {
      "text/plain": [
       "Index(['sourceName', 'sourceVersion', 'device', 'type', 'unit', 'creationDate',\n",
       "       'startDate', 'endDate', 'value'],\n",
       "      dtype='object')"
      ]
     },
     "execution_count": 38,
     "metadata": {},
     "output_type": "execute_result"
    }
   ],
   "source": [
    "resting.columns"
   ]
  },
  {
   "cell_type": "code",
   "execution_count": 39,
   "metadata": {},
   "outputs": [
    {
     "data": {
      "text/plain": [
       "array(['Leeor’s Apple\\xa0Watch'], dtype=object)"
      ]
     },
     "execution_count": 39,
     "metadata": {},
     "output_type": "execute_result"
    }
   ],
   "source": [
    "resting.sourceName.unique()"
   ]
  },
  {
   "cell_type": "code",
   "execution_count": 40,
   "metadata": {},
   "outputs": [],
   "source": [
    "# parse out date and time elements as Eastern time\n",
    "resting['startDate'] = pd.to_datetime(resting['startDate'])\n",
    "resting['year'] = resting['startDate'].map(get_year)\n",
    "resting['month'] = resting['startDate'].map(get_month)\n",
    "resting['date'] = resting['startDate'].map(get_date)"
   ]
  },
  {
   "cell_type": "code",
   "execution_count": 41,
   "metadata": {},
   "outputs": [],
   "source": [
    "# resting.tail(10)"
   ]
  },
  {
   "cell_type": "code",
   "execution_count": 51,
   "metadata": {},
   "outputs": [
    {
     "data": {
      "text/plain": [
       "<AxesSubplot:title={'center':'Resting HR'}, xlabel='date'>"
      ]
     },
     "execution_count": 51,
     "metadata": {},
     "output_type": "execute_result"
    },
    {
     "data": {
      "image/png": "[encoded data removed]",
      "text/plain": [
       "<Figure size 720x432 with 1 Axes>"
      ]
     },
     "metadata": {
      "needs_background": "light"
     },
     "output_type": "display_data"
    }
   ],
   "source": [
    "resting[resting.month == '2021-08'].plot(x='date', y='value', title= 'Resting HR', figsize=[10, 6])"
   ]
  },
  {
   "cell_type": "code",
   "execution_count": 43,
   "metadata": {},
   "outputs": [
    {
     "data": {
      "text/plain": [
       "234013"
      ]
     },
     "execution_count": 43,
     "metadata": {},
     "output_type": "execute_result"
    }
   ],
   "source": [
    "hr = pd.read_csv(\"data/HeartRate.csv\")\n",
    "len(hr)"
   ]
  },
  {
   "cell_type": "code",
   "execution_count": 44,
   "metadata": {},
   "outputs": [],
   "source": [
    "# hr.tail(10)"
   ]
  },
  {
   "cell_type": "code",
   "execution_count": 45,
   "metadata": {},
   "outputs": [],
   "source": [
    "# parse out date and time elements as Eastern time\n",
    "hr['startDate'] = pd.to_datetime(hr['startDate'])\n",
    "hr['year'] = hr['startDate'].map(get_year)\n",
    "hr['month'] = hr['startDate'].map(get_month)\n",
    "hr['hour'] = hr['startDate'].map(get_hour)\n",
    "hr['date'] = hr['startDate'].map(get_date)"
   ]
  },
  {
   "cell_type": "code",
   "execution_count": 50,
   "metadata": {},
   "outputs": [
    {
     "data": {
      "text/plain": [
       "<AxesSubplot:title={'center':'HR'}, xlabel='startDate'>"
      ]
     },
     "execution_count": 50,
     "metadata": {},
     "output_type": "execute_result"
    },
    {
     "data": {
      "image/png": "[encoded data removed]",
      "text/plain": [
       "<Figure size 720x432 with 1 Axes>"
      ]
     },
     "metadata": {
      "needs_background": "light"
     },
     "output_type": "display_data"
    }
   ],
   "source": [
    "# plot a single day\n",
    "test_date = '2021-08-28'\n",
    "# len(hr[hr.date == test_date])\n",
    "# TODO: Fix Axis for Hour of Day or Something Similar\n",
    "hr[hr.date == test_date].plot(x='startDate', y='value', title= 'HR', figsize=[10, 6])"
   ]
  },
  {
   "cell_type": "markdown",
   "metadata": {},
   "source": [
    "------"
   ]
  },
  {
   "cell_type": "markdown",
   "metadata": {},
   "source": [
    "# Sleep"
   ]
  },
  {
   "cell_type": "code",
   "execution_count": 47,
   "metadata": {
    "collapsed": true
   },
   "outputs": [],
   "source": [
    "sleep_raw = pd.read_csv(\"data/SleepAnalysis.csv\")"
   ]
  },
  {
   "cell_type": "code",
   "execution_count": 48,
   "metadata": {},
   "outputs": [
    {
     "data": {
      "text/html": [
       "<div>\n",
       "<style scoped>\n",
       "    .dataframe tbody tr th:only-of-type {\n",
       "        vertical-align: middle;\n",
       "    }\n",
       "\n",
       "    .dataframe tbody tr th {\n",
       "        vertical-align: top;\n",
       "    }\n",
       "\n",
       "    .dataframe thead th {\n",
       "        text-align: right;\n",
       "    }\n",
       "</style>\n",
       "<table border=\"1\" class=\"dataframe\">\n",
       "  <thead>\n",
       "    <tr style=\"text-align: right;\">\n",
       "      <th></th>\n",
       "      <th>sourceName</th>\n",
       "      <th>sourceVersion</th>\n",
       "      <th>device</th>\n",
       "      <th>type</th>\n",
       "      <th>unit</th>\n",
       "      <th>creationDate</th>\n",
       "      <th>startDate</th>\n",
       "      <th>endDate</th>\n",
       "      <th>value</th>\n",
       "    </tr>\n",
       "  </thead>\n",
       "  <tbody>\n",
       "    <tr>\n",
       "      <th>431</th>\n",
       "      <td>Clock</td>\n",
       "      <td>50.0</td>\n",
       "      <td>&lt;&lt;HKDevice: 0x28378eda0&gt;, name:iPhone, manufac...</td>\n",
       "      <td>SleepAnalysis</td>\n",
       "      <td>NaN</td>\n",
       "      <td>2018-12-10 10:40:21 -0400</td>\n",
       "      <td>2018-12-10 07:10:28 -0400</td>\n",
       "      <td>2018-12-10 07:34:32 -0400</td>\n",
       "      <td>HKCategoryValueSleepAnalysisInBed</td>\n",
       "    </tr>\n",
       "    <tr>\n",
       "      <th>432</th>\n",
       "      <td>Clock</td>\n",
       "      <td>50.0</td>\n",
       "      <td>&lt;&lt;HKDevice: 0x28378eda0&gt;, name:iPhone, manufac...</td>\n",
       "      <td>SleepAnalysis</td>\n",
       "      <td>NaN</td>\n",
       "      <td>2018-12-10 10:40:21 -0400</td>\n",
       "      <td>2018-12-10 07:35:20 -0400</td>\n",
       "      <td>2018-12-10 07:45:08 -0400</td>\n",
       "      <td>HKCategoryValueSleepAnalysisInBed</td>\n",
       "    </tr>\n",
       "    <tr>\n",
       "      <th>433</th>\n",
       "      <td>Clock</td>\n",
       "      <td>50.0</td>\n",
       "      <td>&lt;&lt;HKDevice: 0x28378eda0&gt;, name:iPhone, manufac...</td>\n",
       "      <td>SleepAnalysis</td>\n",
       "      <td>NaN</td>\n",
       "      <td>2018-12-10 10:40:21 -0400</td>\n",
       "      <td>2018-12-10 08:08:04 -0400</td>\n",
       "      <td>2018-12-10 08:09:28 -0400</td>\n",
       "      <td>HKCategoryValueSleepAnalysisInBed</td>\n",
       "    </tr>\n",
       "    <tr>\n",
       "      <th>434</th>\n",
       "      <td>Clock</td>\n",
       "      <td>50.0</td>\n",
       "      <td>&lt;&lt;HKDevice: 0x28378eda0&gt;, name:iPhone, manufac...</td>\n",
       "      <td>SleepAnalysis</td>\n",
       "      <td>NaN</td>\n",
       "      <td>2018-12-10 10:40:21 -0400</td>\n",
       "      <td>2018-12-10 08:09:44 -0400</td>\n",
       "      <td>2018-12-10 08:21:52 -0400</td>\n",
       "      <td>HKCategoryValueSleepAnalysisInBed</td>\n",
       "    </tr>\n",
       "    <tr>\n",
       "      <th>435</th>\n",
       "      <td>Clock</td>\n",
       "      <td>50.0</td>\n",
       "      <td>&lt;&lt;HKDevice: 0x28378eda0&gt;, name:iPhone, manufac...</td>\n",
       "      <td>SleepAnalysis</td>\n",
       "      <td>NaN</td>\n",
       "      <td>2018-12-10 10:40:21 -0400</td>\n",
       "      <td>2018-12-10 08:22:40 -0400</td>\n",
       "      <td>2018-12-10 10:40:11 -0400</td>\n",
       "      <td>HKCategoryValueSleepAnalysisInBed</td>\n",
       "    </tr>\n",
       "  </tbody>\n",
       "</table>\n",
       "</div>"
      ],
      "text/plain": [
       "    sourceName  sourceVersion  \\\n",
       "431      Clock           50.0   \n",
       "432      Clock           50.0   \n",
       "433      Clock           50.0   \n",
       "434      Clock           50.0   \n",
       "435      Clock           50.0   \n",
       "\n",
       "                                                device           type  unit  \\\n",
       "431  <<HKDevice: 0x28378eda0>, name:iPhone, manufac...  SleepAnalysis   NaN   \n",
       "432  <<HKDevice: 0x28378eda0>, name:iPhone, manufac...  SleepAnalysis   NaN   \n",
       "433  <<HKDevice: 0x28378eda0>, name:iPhone, manufac...  SleepAnalysis   NaN   \n",
       "434  <<HKDevice: 0x28378eda0>, name:iPhone, manufac...  SleepAnalysis   NaN   \n",
       "435  <<HKDevice: 0x28378eda0>, name:iPhone, manufac...  SleepAnalysis   NaN   \n",
       "\n",
       "                  creationDate                  startDate  \\\n",
       "431  2018-12-10 10:40:21 -0400  2018-12-10 07:10:28 -0400   \n",
       "432  2018-12-10 10:40:21 -0400  2018-12-10 07:35:20 -0400   \n",
       "433  2018-12-10 10:40:21 -0400  2018-12-10 08:08:04 -0400   \n",
       "434  2018-12-10 10:40:21 -0400  2018-12-10 08:09:44 -0400   \n",
       "435  2018-12-10 10:40:21 -0400  2018-12-10 08:22:40 -0400   \n",
       "\n",
       "                       endDate                              value  \n",
       "431  2018-12-10 07:34:32 -0400  HKCategoryValueSleepAnalysisInBed  \n",
       "432  2018-12-10 07:45:08 -0400  HKCategoryValueSleepAnalysisInBed  \n",
       "433  2018-12-10 08:09:28 -0400  HKCategoryValueSleepAnalysisInBed  \n",
       "434  2018-12-10 08:21:52 -0400  HKCategoryValueSleepAnalysisInBed  \n",
       "435  2018-12-10 10:40:11 -0400  HKCategoryValueSleepAnalysisInBed  "
      ]
     },
     "execution_count": 48,
     "metadata": {},
     "output_type": "execute_result"
    }
   ],
   "source": [
    "sleep_raw.tail()"
   ]
  },
  {
   "cell_type": "code",
   "execution_count": 49,
   "metadata": {
    "collapsed": true
   },
   "outputs": [],
   "source": [
    "# parse out date and time elements as Eastern time\n",
    "steps['startDate'] = pd.to_datetime(steps['startDate'])\n",
    "steps['year'] = steps['startDate'].map(get_year)\n",
    "steps['month'] = steps['startDate'].map(get_month)\n",
    "steps['date'] = steps['startDate'].map(get_date)\n",
    "steps['day'] = steps['startDate'].map(get_day)\n",
    "steps['hour'] = steps['startDate'].map(get_hour)\n",
    "steps['dow'] = steps['startDate'].map(get_day_of_week)"
   ]
  },
  {
   "cell_type": "code",
   "execution_count": 52,
   "metadata": {},
   "outputs": [
    {
     "data": {
      "text/plain": [
       "array(['HKCategoryValueSleepAnalysisInBed'], dtype=object)"
      ]
     },
     "execution_count": 52,
     "metadata": {},
     "output_type": "execute_result"
    }
   ],
   "source": [
    "sleep_raw['value'].unique()"
   ]
  }
 ],
 "metadata": {
  "kernelspec": {
   "display_name": "Python 3",
   "language": "python",
   "name": "python3"
  },
  "language_info": {
   "codemirror_mode": {
    "name": "ipython",
    "version": 3
   },
   "file_extension": ".py",
   "mimetype": "text/x-python",
   "name": "python",
   "nbconvert_exporter": "python",
   "pygments_lexer": "ipython3",
   "version": "3.10.0"
  }
 },
 "nbformat": 4,
 "nbformat_minor": 2
}
