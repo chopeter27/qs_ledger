{
 "cells": [
  {
   "cell_type": "markdown",
   "metadata": {},
   "source": [
    "# Apple Health Extractor"
   ]
  },
  {
   "cell_type": "markdown",
   "metadata": {},
   "source": [
    "This code will parse your Apple Health export data, create multiple CSV and do some simple data checks and data analysis. \n",
    "\n",
    "Enjoy! "
   ]
  },
  {
   "cell_type": "markdown",
   "metadata": {},
   "source": [
    "--------"
   ]
  },
  {
   "cell_type": "markdown",
   "metadata": {},
   "source": [
    "## Extract Data and Export to CSVs from Apple Health's Export.xml"
   ]
  },
  {
   "cell_type": "markdown",
   "metadata": {},
   "source": [
    "* Command Line Tool to Process apple health's export.xml file \n",
    "* Create multiple CSV files for each data type. \n",
    "* Original Source: https://github.com/tdda/applehealthdata\n",
    "* Based on the size of your Apple Health Data, this script may take several minutes to complete.\n",
    "\n",
    "**NOTE: Currently there are a few minror errors based on additional data from Apple Health that require some updates.** "
   ]
  },
  {
   "cell_type": "markdown",
   "metadata": {},
   "source": [
    "## Setup and Usage NOTE\n",
    "\n",
    "* Export your data from Apple Health App on your phone. \n",
    "* Unzip export.zip into this directory and rename to data. \n",
    "* Inside your directory there should be a directory and file here: /data/export.xml\n",
    "* Run inside project or in the command line."
   ]
  },
  {
   "cell_type": "code",
   "execution_count": 5,
   "metadata": {
    "collapsed": true
   },
   "outputs": [
    {
     "name": "stdout",
     "output_type": "stream",
     "text": [
      "Reading data from data/export.xml . . . done\n",
      "Unexpected node of type ExportDate.\n",
      "\n",
      "Tags:\n",
      "ActivitySummary: 1323\n",
      "ExportDate: 1\n",
      "Me: 1\n",
      "Record: 2248249\n",
      "Workout: 373\n",
      "\n",
      "Fields:\n",
      "HKCharacteristicTypeIdentifierBiologicalSex: 1\n",
      "HKCharacteristicTypeIdentifierBloodType: 1\n",
      "HKCharacteristicTypeIdentifierCardioFitnessMedicationsUse: 1\n",
      "HKCharacteristicTypeIdentifierDateOfBirth: 1\n",
      "HKCharacteristicTypeIdentifierFitzpatrickSkinType: 1\n",
      "activeEnergyBurned: 1323\n",
      "activeEnergyBurnedGoal: 1323\n",
      "activeEnergyBurnedUnit: 1323\n",
      "appleExerciseTime: 1323\n",
      "appleExerciseTimeGoal: 1323\n",
      "appleMoveTime: 1323\n",
      "appleMoveTimeGoal: 1323\n",
      "appleStandHours: 1323\n",
      "appleStandHoursGoal: 1323\n",
      "creationDate: 2248622\n",
      "dateComponents: 1323\n",
      "device: 2176842\n",
      "duration: 373\n",
      "durationUnit: 373\n",
      "endDate: 2248622\n",
      "sourceName: 2248622\n",
      "sourceVersion: 2232606\n",
      "startDate: 2248622\n",
      "type: 2248249\n",
      "unit: 2231795\n",
      "value: 2248220\n",
      "workoutActivityType: 373\n",
      "\n",
      "Record types:\n",
      "ActiveEnergyBurned: 938351\n",
      "AppleExerciseTime: 23543\n",
      "AppleStandHour: 15556\n",
      "AppleStandTime: 62337\n",
      "AppleWalkingSteadiness: 80\n",
      "AudioExposureEvent: 432\n",
      "BasalEnergyBurned: 296332\n",
      "BodyMass: 3\n",
      "DistanceCycling: 50\n",
      "DistanceWalkingRunning: 283791\n",
      "EnvironmentalAudioExposure: 31109\n",
      "EnvironmentalSoundReduction: 541\n",
      "FlightsClimbed: 15533\n",
      "HeadphoneAudioExposure: 15523\n",
      "HeartRate: 234013\n",
      "HeartRateRecoveryOneMinute: 20\n",
      "HeartRateVariabilitySDNN: 3256\n",
      "Height: 2\n",
      "LowHeartRateEvent: 25\n",
      "MindfulSession: 5\n",
      "RespiratoryRate: 8\n",
      "RestingHeartRate: 1225\n",
      "RunningSpeed: 946\n",
      "SixMinuteWalkTestDistance: 106\n",
      "SleepAnalysis: 436\n",
      "StairAscentSpeed: 1471\n",
      "StairDescentSpeed: 940\n",
      "StepCount: 214203\n",
      "VO2Max: 290\n",
      "WalkingAsymmetryPercentage: 5548\n",
      "WalkingDoubleSupportPercentage: 18566\n",
      "WalkingHeartRateAverage: 1181\n",
      "WalkingSpeed: 41421\n",
      "WalkingStepLength: 41406\n",
      "\n",
      "Opening c:\\Users\\chope\\OneDrive\\Documents\\GitHub\\qs_ledger\\apple_health\\data\\Height.csv for writing\n",
      "Opening c:\\Users\\chope\\OneDrive\\Documents\\GitHub\\qs_ledger\\apple_health\\data\\BodyMass.csv for writing\n",
      "Opening c:\\Users\\chope\\OneDrive\\Documents\\GitHub\\qs_ledger\\apple_health\\data\\HeartRate.csv for writing\n",
      "Opening c:\\Users\\chope\\OneDrive\\Documents\\GitHub\\qs_ledger\\apple_health\\data\\RespiratoryRate.csv for writing\n",
      "Opening c:\\Users\\chope\\OneDrive\\Documents\\GitHub\\qs_ledger\\apple_health\\data\\StepCount.csv for writing\n",
      "Opening c:\\Users\\chope\\OneDrive\\Documents\\GitHub\\qs_ledger\\apple_health\\data\\DistanceWalkingRunning.csv for writing\n",
      "Opening c:\\Users\\chope\\OneDrive\\Documents\\GitHub\\qs_ledger\\apple_health\\data\\BasalEnergyBurned.csv for writing\n",
      "Opening c:\\Users\\chope\\OneDrive\\Documents\\GitHub\\qs_ledger\\apple_health\\data\\ActiveEnergyBurned.csv for writing\n",
      "Opening c:\\Users\\chope\\OneDrive\\Documents\\GitHub\\qs_ledger\\apple_health\\data\\FlightsClimbed.csv for writing\n",
      "Opening c:\\Users\\chope\\OneDrive\\Documents\\GitHub\\qs_ledger\\apple_health\\data\\AppleExerciseTime.csv for writing\n",
      "Opening c:\\Users\\chope\\OneDrive\\Documents\\GitHub\\qs_ledger\\apple_health\\data\\DistanceCycling.csv for writing\n",
      "Opening c:\\Users\\chope\\OneDrive\\Documents\\GitHub\\qs_ledger\\apple_health\\data\\RestingHeartRate.csv for writing\n",
      "Opening c:\\Users\\chope\\OneDrive\\Documents\\GitHub\\qs_ledger\\apple_health\\data\\VO2Max.csv for writing\n",
      "Opening c:\\Users\\chope\\OneDrive\\Documents\\GitHub\\qs_ledger\\apple_health\\data\\WalkingHeartRateAverage.csv for writing\n",
      "Opening c:\\Users\\chope\\OneDrive\\Documents\\GitHub\\qs_ledger\\apple_health\\data\\EnvironmentalAudioExposure.csv for writing\n",
      "Opening c:\\Users\\chope\\OneDrive\\Documents\\GitHub\\qs_ledger\\apple_health\\data\\HeadphoneAudioExposure.csv for writing\n",
      "Opening c:\\Users\\chope\\OneDrive\\Documents\\GitHub\\qs_ledger\\apple_health\\data\\WalkingDoubleSupportPercentage.csv for writing\n",
      "Opening c:\\Users\\chope\\OneDrive\\Documents\\GitHub\\qs_ledger\\apple_health\\data\\SixMinuteWalkTestDistance.csv for writing\n",
      "Opening c:\\Users\\chope\\OneDrive\\Documents\\GitHub\\qs_ledger\\apple_health\\data\\AppleStandTime.csv for writing\n",
      "Opening c:\\Users\\chope\\OneDrive\\Documents\\GitHub\\qs_ledger\\apple_health\\data\\WalkingSpeed.csv for writing\n",
      "Opening c:\\Users\\chope\\OneDrive\\Documents\\GitHub\\qs_ledger\\apple_health\\data\\WalkingStepLength.csv for writing\n",
      "Opening c:\\Users\\chope\\OneDrive\\Documents\\GitHub\\qs_ledger\\apple_health\\data\\WalkingAsymmetryPercentage.csv for writing\n",
      "Opening c:\\Users\\chope\\OneDrive\\Documents\\GitHub\\qs_ledger\\apple_health\\data\\StairAscentSpeed.csv for writing\n",
      "Opening c:\\Users\\chope\\OneDrive\\Documents\\GitHub\\qs_ledger\\apple_health\\data\\StairDescentSpeed.csv for writing\n",
      "Opening c:\\Users\\chope\\OneDrive\\Documents\\GitHub\\qs_ledger\\apple_health\\data\\AppleWalkingSteadiness.csv for writing\n",
      "Opening c:\\Users\\chope\\OneDrive\\Documents\\GitHub\\qs_ledger\\apple_health\\data\\HeartRateRecoveryOneMinute.csv for writing\n",
      "Opening c:\\Users\\chope\\OneDrive\\Documents\\GitHub\\qs_ledger\\apple_health\\data\\EnvironmentalSoundReduction.csv for writing\n",
      "Opening c:\\Users\\chope\\OneDrive\\Documents\\GitHub\\qs_ledger\\apple_health\\data\\RunningSpeed.csv for writing\n",
      "Opening c:\\Users\\chope\\OneDrive\\Documents\\GitHub\\qs_ledger\\apple_health\\data\\SleepAnalysis.csv for writing\n",
      "Opening c:\\Users\\chope\\OneDrive\\Documents\\GitHub\\qs_ledger\\apple_health\\data\\AppleStandHour.csv for writing\n",
      "Opening c:\\Users\\chope\\OneDrive\\Documents\\GitHub\\qs_ledger\\apple_health\\data\\MindfulSession.csv for writing\n",
      "Opening c:\\Users\\chope\\OneDrive\\Documents\\GitHub\\qs_ledger\\apple_health\\data\\LowHeartRateEvent.csv for writing\n",
      "Opening c:\\Users\\chope\\OneDrive\\Documents\\GitHub\\qs_ledger\\apple_health\\data\\AudioExposureEvent.csv for writing\n",
      "Opening c:\\Users\\chope\\OneDrive\\Documents\\GitHub\\qs_ledger\\apple_health\\data\\HeartRateVariabilitySDNN.csv for writing\n",
      "Opening c:\\Users\\chope\\OneDrive\\Documents\\GitHub\\qs_ledger\\apple_health\\data\\Workout.csv for writing\n",
      "Opening c:\\Users\\chope\\OneDrive\\Documents\\GitHub\\qs_ledger\\apple_health\\data\\ActivitySummary.csv for writing\n",
      "Written Height data.\n",
      "Written BodyMass data.\n",
      "Written HeartRate data.\n",
      "Written RespiratoryRate data.\n",
      "Written StepCount data.\n",
      "Written DistanceWalkingRunning data.\n",
      "Written BasalEnergyBurned data.\n",
      "Written ActiveEnergyBurned data.\n",
      "Written FlightsClimbed data.\n",
      "Written AppleExerciseTime data.\n",
      "Written DistanceCycling data.\n",
      "Written RestingHeartRate data.\n",
      "Written VO2Max data.\n",
      "Written WalkingHeartRateAverage data.\n",
      "Written EnvironmentalAudioExposure data.\n",
      "Written HeadphoneAudioExposure data.\n",
      "Written WalkingDoubleSupportPercentage data.\n",
      "Written SixMinuteWalkTestDistance data.\n",
      "Written AppleStandTime data.\n",
      "Written WalkingSpeed data.\n",
      "Written WalkingStepLength data.\n",
      "Written WalkingAsymmetryPercentage data.\n",
      "Written StairAscentSpeed data.\n",
      "Written StairDescentSpeed data.\n",
      "Written AppleWalkingSteadiness data.\n",
      "Written HeartRateRecoveryOneMinute data.\n",
      "Written EnvironmentalSoundReduction data.\n",
      "Written RunningSpeed data.\n",
      "Written SleepAnalysis data.\n",
      "Written AppleStandHour data.\n",
      "Written MindfulSession data.\n",
      "Written LowHeartRateEvent data.\n",
      "Written AudioExposureEvent data.\n",
      "Written HeartRateVariabilitySDNN data.\n",
      "Written Workout data.\n",
      "Written ActivitySummary data.\n"
     ]
    }
   ],
   "source": [
    "# %run -i 'apple-health-data-parser' 'export.xml' \n",
    "%run -i \"apple-health-data-parser\" \"data/export.xml\" "
   ]
  },
  {
   "cell_type": "markdown",
   "metadata": {},
   "source": [
    "-----"
   ]
  },
  {
   "cell_type": "markdown",
   "metadata": {},
   "source": [
    "# Apple Health Data Check and Simple Data Analysis"
   ]
  },
  {
   "cell_type": "code",
   "execution_count": 6,
   "metadata": {
    "collapsed": true
   },
   "outputs": [],
   "source": [
    "import numpy as np\n",
    "import pandas as pd\n",
    "import glob"
   ]
  },
  {
   "cell_type": "markdown",
   "metadata": {},
   "source": [
    "----"
   ]
  },
  {
   "cell_type": "markdown",
   "metadata": {},
   "source": [
    "# Weight"
   ]
  },
  {
   "cell_type": "code",
   "execution_count": 7,
   "metadata": {
    "collapsed": true
   },
   "outputs": [],
   "source": [
    "weight = pd.read_csv(\"data/BodyMass.csv\")"
   ]
  },
  {
   "cell_type": "code",
   "execution_count": 8,
   "metadata": {},
   "outputs": [
    {
     "data": {
      "text/html": [
       "<div>\n",
       "<style scoped>\n",
       "    .dataframe tbody tr th:only-of-type {\n",
       "        vertical-align: middle;\n",
       "    }\n",
       "\n",
       "    .dataframe tbody tr th {\n",
       "        vertical-align: top;\n",
       "    }\n",
       "\n",
       "    .dataframe thead th {\n",
       "        text-align: right;\n",
       "    }\n",
       "</style>\n",
       "<table border=\"1\" class=\"dataframe\">\n",
       "  <thead>\n",
       "    <tr style=\"text-align: right;\">\n",
       "      <th></th>\n",
       "      <th>sourceName</th>\n",
       "      <th>sourceVersion</th>\n",
       "      <th>device</th>\n",
       "      <th>type</th>\n",
       "      <th>unit</th>\n",
       "      <th>creationDate</th>\n",
       "      <th>startDate</th>\n",
       "      <th>endDate</th>\n",
       "      <th>value</th>\n",
       "    </tr>\n",
       "  </thead>\n",
       "  <tbody>\n",
       "    <tr>\n",
       "      <th>0</th>\n",
       "      <td>Health</td>\n",
       "      <td>10.1.1</td>\n",
       "      <td>NaN</td>\n",
       "      <td>BodyMass</td>\n",
       "      <td>lb</td>\n",
       "      <td>2016-12-04 18:13:07 -0400</td>\n",
       "      <td>2016-12-04 18:13:07 -0400</td>\n",
       "      <td>2016-12-04 18:13:07 -0400</td>\n",
       "      <td>110</td>\n",
       "    </tr>\n",
       "    <tr>\n",
       "      <th>1</th>\n",
       "      <td>Leeor</td>\n",
       "      <td>13.3</td>\n",
       "      <td>NaN</td>\n",
       "      <td>BodyMass</td>\n",
       "      <td>lb</td>\n",
       "      <td>2020-01-03 15:56:51 -0400</td>\n",
       "      <td>2020-01-03 15:56:51 -0400</td>\n",
       "      <td>2020-01-03 15:56:51 -0400</td>\n",
       "      <td>127</td>\n",
       "    </tr>\n",
       "    <tr>\n",
       "      <th>2</th>\n",
       "      <td>Health</td>\n",
       "      <td>15.6.1</td>\n",
       "      <td>NaN</td>\n",
       "      <td>BodyMass</td>\n",
       "      <td>lb</td>\n",
       "      <td>2023-02-08 13:58:15 -0400</td>\n",
       "      <td>2023-02-08 13:58:00 -0400</td>\n",
       "      <td>2023-02-08 13:58:00 -0400</td>\n",
       "      <td>135</td>\n",
       "    </tr>\n",
       "  </tbody>\n",
       "</table>\n",
       "</div>"
      ],
      "text/plain": [
       "  sourceName sourceVersion  device      type unit               creationDate  \\\n",
       "0     Health        10.1.1     NaN  BodyMass   lb  2016-12-04 18:13:07 -0400   \n",
       "1      Leeor          13.3     NaN  BodyMass   lb  2020-01-03 15:56:51 -0400   \n",
       "2     Health        15.6.1     NaN  BodyMass   lb  2023-02-08 13:58:15 -0400   \n",
       "\n",
       "                   startDate                    endDate  value  \n",
       "0  2016-12-04 18:13:07 -0400  2016-12-04 18:13:07 -0400    110  \n",
       "1  2020-01-03 15:56:51 -0400  2020-01-03 15:56:51 -0400    127  \n",
       "2  2023-02-08 13:58:00 -0400  2023-02-08 13:58:00 -0400    135  "
      ]
     },
     "execution_count": 8,
     "metadata": {},
     "output_type": "execute_result"
    }
   ],
   "source": [
    "weight.tail()"
   ]
  },
  {
   "cell_type": "code",
   "execution_count": 9,
   "metadata": {},
   "outputs": [
    {
     "data": {
      "text/html": [
       "<div>\n",
       "<style scoped>\n",
       "    .dataframe tbody tr th:only-of-type {\n",
       "        vertical-align: middle;\n",
       "    }\n",
       "\n",
       "    .dataframe tbody tr th {\n",
       "        vertical-align: top;\n",
       "    }\n",
       "\n",
       "    .dataframe thead th {\n",
       "        text-align: right;\n",
       "    }\n",
       "</style>\n",
       "<table border=\"1\" class=\"dataframe\">\n",
       "  <thead>\n",
       "    <tr style=\"text-align: right;\">\n",
       "      <th></th>\n",
       "      <th>device</th>\n",
       "      <th>value</th>\n",
       "    </tr>\n",
       "  </thead>\n",
       "  <tbody>\n",
       "    <tr>\n",
       "      <th>count</th>\n",
       "      <td>0.0</td>\n",
       "      <td>3.000000</td>\n",
       "    </tr>\n",
       "    <tr>\n",
       "      <th>mean</th>\n",
       "      <td>NaN</td>\n",
       "      <td>124.000000</td>\n",
       "    </tr>\n",
       "    <tr>\n",
       "      <th>std</th>\n",
       "      <td>NaN</td>\n",
       "      <td>12.767145</td>\n",
       "    </tr>\n",
       "    <tr>\n",
       "      <th>min</th>\n",
       "      <td>NaN</td>\n",
       "      <td>110.000000</td>\n",
       "    </tr>\n",
       "    <tr>\n",
       "      <th>25%</th>\n",
       "      <td>NaN</td>\n",
       "      <td>118.500000</td>\n",
       "    </tr>\n",
       "    <tr>\n",
       "      <th>50%</th>\n",
       "      <td>NaN</td>\n",
       "      <td>127.000000</td>\n",
       "    </tr>\n",
       "    <tr>\n",
       "      <th>75%</th>\n",
       "      <td>NaN</td>\n",
       "      <td>131.000000</td>\n",
       "    </tr>\n",
       "    <tr>\n",
       "      <th>max</th>\n",
       "      <td>NaN</td>\n",
       "      <td>135.000000</td>\n",
       "    </tr>\n",
       "  </tbody>\n",
       "</table>\n",
       "</div>"
      ],
      "text/plain": [
       "       device       value\n",
       "count     0.0    3.000000\n",
       "mean      NaN  124.000000\n",
       "std       NaN   12.767145\n",
       "min       NaN  110.000000\n",
       "25%       NaN  118.500000\n",
       "50%       NaN  127.000000\n",
       "75%       NaN  131.000000\n",
       "max       NaN  135.000000"
      ]
     },
     "execution_count": 9,
     "metadata": {},
     "output_type": "execute_result"
    }
   ],
   "source": [
    "weight.describe()"
   ]
  },
  {
   "cell_type": "markdown",
   "metadata": {},
   "source": [
    "----"
   ]
  },
  {
   "cell_type": "markdown",
   "metadata": {},
   "source": [
    "## Steps"
   ]
  },
  {
   "cell_type": "code",
   "execution_count": 10,
   "metadata": {
    "collapsed": true
   },
   "outputs": [],
   "source": [
    "steps = pd.read_csv(\"data/StepCount.csv\")"
   ]
  },
  {
   "cell_type": "code",
   "execution_count": 11,
   "metadata": {},
   "outputs": [
    {
     "data": {
      "text/plain": [
       "214203"
      ]
     },
     "execution_count": 11,
     "metadata": {},
     "output_type": "execute_result"
    }
   ],
   "source": [
    "len(steps)"
   ]
  },
  {
   "cell_type": "code",
   "execution_count": 12,
   "metadata": {},
   "outputs": [
    {
     "data": {
      "text/plain": [
       "Index(['sourceName', 'sourceVersion', 'device', 'type', 'unit', 'creationDate',\n",
       "       'startDate', 'endDate', 'value'],\n",
       "      dtype='object')"
      ]
     },
     "execution_count": 12,
     "metadata": {},
     "output_type": "execute_result"
    }
   ],
   "source": [
    "steps.columns"
   ]
  },
  {
   "cell_type": "code",
   "execution_count": 13,
   "metadata": {},
   "outputs": [
    {
     "data": {
      "text/html": [
       "<div>\n",
       "<style scoped>\n",
       "    .dataframe tbody tr th:only-of-type {\n",
       "        vertical-align: middle;\n",
       "    }\n",
       "\n",
       "    .dataframe tbody tr th {\n",
       "        vertical-align: top;\n",
       "    }\n",
       "\n",
       "    .dataframe thead th {\n",
       "        text-align: right;\n",
       "    }\n",
       "</style>\n",
       "<table border=\"1\" class=\"dataframe\">\n",
       "  <thead>\n",
       "    <tr style=\"text-align: right;\">\n",
       "      <th></th>\n",
       "      <th>value</th>\n",
       "    </tr>\n",
       "  </thead>\n",
       "  <tbody>\n",
       "    <tr>\n",
       "      <th>count</th>\n",
       "      <td>214203.000000</td>\n",
       "    </tr>\n",
       "    <tr>\n",
       "      <th>mean</th>\n",
       "      <td>110.116581</td>\n",
       "    </tr>\n",
       "    <tr>\n",
       "      <th>std</th>\n",
       "      <td>161.562952</td>\n",
       "    </tr>\n",
       "    <tr>\n",
       "      <th>min</th>\n",
       "      <td>1.000000</td>\n",
       "    </tr>\n",
       "    <tr>\n",
       "      <th>25%</th>\n",
       "      <td>20.000000</td>\n",
       "    </tr>\n",
       "    <tr>\n",
       "      <th>50%</th>\n",
       "      <td>50.000000</td>\n",
       "    </tr>\n",
       "    <tr>\n",
       "      <th>75%</th>\n",
       "      <td>124.000000</td>\n",
       "    </tr>\n",
       "    <tr>\n",
       "      <th>max</th>\n",
       "      <td>13383.000000</td>\n",
       "    </tr>\n",
       "  </tbody>\n",
       "</table>\n",
       "</div>"
      ],
      "text/plain": [
       "               value\n",
       "count  214203.000000\n",
       "mean      110.116581\n",
       "std       161.562952\n",
       "min         1.000000\n",
       "25%        20.000000\n",
       "50%        50.000000\n",
       "75%       124.000000\n",
       "max     13383.000000"
      ]
     },
     "execution_count": 13,
     "metadata": {},
     "output_type": "execute_result"
    }
   ],
   "source": [
    "steps.describe()"
   ]
  },
  {
   "cell_type": "code",
   "execution_count": 14,
   "metadata": {},
   "outputs": [
    {
     "data": {
      "text/html": [
       "<div>\n",
       "<style scoped>\n",
       "    .dataframe tbody tr th:only-of-type {\n",
       "        vertical-align: middle;\n",
       "    }\n",
       "\n",
       "    .dataframe tbody tr th {\n",
       "        vertical-align: top;\n",
       "    }\n",
       "\n",
       "    .dataframe thead th {\n",
       "        text-align: right;\n",
       "    }\n",
       "</style>\n",
       "<table border=\"1\" class=\"dataframe\">\n",
       "  <thead>\n",
       "    <tr style=\"text-align: right;\">\n",
       "      <th></th>\n",
       "      <th>sourceName</th>\n",
       "      <th>sourceVersion</th>\n",
       "      <th>device</th>\n",
       "      <th>type</th>\n",
       "      <th>unit</th>\n",
       "      <th>creationDate</th>\n",
       "      <th>startDate</th>\n",
       "      <th>endDate</th>\n",
       "      <th>value</th>\n",
       "    </tr>\n",
       "  </thead>\n",
       "  <tbody>\n",
       "    <tr>\n",
       "      <th>214198</th>\n",
       "      <td>Leeor’s Apple Watch</td>\n",
       "      <td>9.6.2</td>\n",
       "      <td>&lt;&lt;HKDevice: 0x28379f840&gt;, name:Apple Watch, ma...</td>\n",
       "      <td>StepCount</td>\n",
       "      <td>count</td>\n",
       "      <td>2023-09-15 14:11:06 -0400</td>\n",
       "      <td>2023-09-15 13:59:54 -0400</td>\n",
       "      <td>2023-09-15 14:08:32 -0400</td>\n",
       "      <td>202</td>\n",
       "    </tr>\n",
       "    <tr>\n",
       "      <th>214199</th>\n",
       "      <td>Leeor</td>\n",
       "      <td>16.6.1</td>\n",
       "      <td>&lt;&lt;HKDevice: 0x28379fd90&gt;, name:iPhone, manufac...</td>\n",
       "      <td>StepCount</td>\n",
       "      <td>count</td>\n",
       "      <td>2023-09-15 14:11:13 -0400</td>\n",
       "      <td>2023-09-15 14:00:11 -0400</td>\n",
       "      <td>2023-09-15 14:07:16 -0400</td>\n",
       "      <td>181</td>\n",
       "    </tr>\n",
       "    <tr>\n",
       "      <th>214200</th>\n",
       "      <td>Leeor’s Apple Watch</td>\n",
       "      <td>9.6.2</td>\n",
       "      <td>&lt;&lt;HKDevice: 0x28379f840&gt;, name:Apple Watch, ma...</td>\n",
       "      <td>StepCount</td>\n",
       "      <td>count</td>\n",
       "      <td>2023-09-15 14:22:38 -0400</td>\n",
       "      <td>2023-09-15 14:10:22 -0400</td>\n",
       "      <td>2023-09-15 14:20:09 -0400</td>\n",
       "      <td>266</td>\n",
       "    </tr>\n",
       "    <tr>\n",
       "      <th>214201</th>\n",
       "      <td>Leeor’s Apple Watch</td>\n",
       "      <td>9.6.2</td>\n",
       "      <td>&lt;&lt;HKDevice: 0x28379f840&gt;, name:Apple Watch, ma...</td>\n",
       "      <td>StepCount</td>\n",
       "      <td>count</td>\n",
       "      <td>2023-09-15 14:44:59 -0400</td>\n",
       "      <td>2023-09-15 14:32:43 -0400</td>\n",
       "      <td>2023-09-15 14:33:06 -0400</td>\n",
       "      <td>19</td>\n",
       "    </tr>\n",
       "    <tr>\n",
       "      <th>214202</th>\n",
       "      <td>Leeor</td>\n",
       "      <td>16.6.1</td>\n",
       "      <td>&lt;&lt;HKDevice: 0x28379fd90&gt;, name:iPhone, manufac...</td>\n",
       "      <td>StepCount</td>\n",
       "      <td>count</td>\n",
       "      <td>2023-09-15 14:24:14 -0400</td>\n",
       "      <td>2023-09-15 14:13:04 -0400</td>\n",
       "      <td>2023-09-15 14:19:51 -0400</td>\n",
       "      <td>249</td>\n",
       "    </tr>\n",
       "  </tbody>\n",
       "</table>\n",
       "</div>"
      ],
      "text/plain": [
       "                 sourceName sourceVersion  \\\n",
       "214198  Leeor’s Apple Watch         9.6.2   \n",
       "214199                Leeor        16.6.1   \n",
       "214200  Leeor’s Apple Watch         9.6.2   \n",
       "214201  Leeor’s Apple Watch         9.6.2   \n",
       "214202                Leeor        16.6.1   \n",
       "\n",
       "                                                   device       type   unit  \\\n",
       "214198  <<HKDevice: 0x28379f840>, name:Apple Watch, ma...  StepCount  count   \n",
       "214199  <<HKDevice: 0x28379fd90>, name:iPhone, manufac...  StepCount  count   \n",
       "214200  <<HKDevice: 0x28379f840>, name:Apple Watch, ma...  StepCount  count   \n",
       "214201  <<HKDevice: 0x28379f840>, name:Apple Watch, ma...  StepCount  count   \n",
       "214202  <<HKDevice: 0x28379fd90>, name:iPhone, manufac...  StepCount  count   \n",
       "\n",
       "                     creationDate                  startDate  \\\n",
       "214198  2023-09-15 14:11:06 -0400  2023-09-15 13:59:54 -0400   \n",
       "214199  2023-09-15 14:11:13 -0400  2023-09-15 14:00:11 -0400   \n",
       "214200  2023-09-15 14:22:38 -0400  2023-09-15 14:10:22 -0400   \n",
       "214201  2023-09-15 14:44:59 -0400  2023-09-15 14:32:43 -0400   \n",
       "214202  2023-09-15 14:24:14 -0400  2023-09-15 14:13:04 -0400   \n",
       "\n",
       "                          endDate  value  \n",
       "214198  2023-09-15 14:08:32 -0400    202  \n",
       "214199  2023-09-15 14:07:16 -0400    181  \n",
       "214200  2023-09-15 14:20:09 -0400    266  \n",
       "214201  2023-09-15 14:33:06 -0400     19  \n",
       "214202  2023-09-15 14:19:51 -0400    249  "
      ]
     },
     "execution_count": 14,
     "metadata": {},
     "output_type": "execute_result"
    }
   ],
   "source": [
    "steps.tail()"
   ]
  },
  {
   "cell_type": "code",
   "execution_count": 15,
   "metadata": {},
   "outputs": [
    {
     "data": {
      "text/plain": [
       "23587302"
      ]
     },
     "execution_count": 15,
     "metadata": {},
     "output_type": "execute_result"
    }
   ],
   "source": [
    "# total all-time steps\n",
    "steps.value.sum()"
   ]
  },
  {
   "cell_type": "markdown",
   "metadata": {},
   "source": [
    "-------"
   ]
  },
  {
   "cell_type": "markdown",
   "metadata": {},
   "source": [
    "## Stand Count"
   ]
  },
  {
   "cell_type": "code",
   "execution_count": 16,
   "metadata": {
    "collapsed": true
   },
   "outputs": [],
   "source": [
    "stand = pd.read_csv(\"data/AppleStandHour.csv\")"
   ]
  },
  {
   "cell_type": "code",
   "execution_count": 17,
   "metadata": {},
   "outputs": [
    {
     "data": {
      "text/plain": [
       "15556"
      ]
     },
     "execution_count": 17,
     "metadata": {},
     "output_type": "execute_result"
    }
   ],
   "source": [
    "len(stand)"
   ]
  },
  {
   "cell_type": "code",
   "execution_count": 18,
   "metadata": {},
   "outputs": [
    {
     "data": {
      "text/plain": [
       "Index(['sourceName', 'sourceVersion', 'device', 'type', 'unit', 'creationDate',\n",
       "       'startDate', 'endDate', 'value'],\n",
       "      dtype='object')"
      ]
     },
     "execution_count": 18,
     "metadata": {},
     "output_type": "execute_result"
    }
   ],
   "source": [
    "stand.columns"
   ]
  },
  {
   "cell_type": "code",
   "execution_count": 19,
   "metadata": {},
   "outputs": [
    {
     "data": {
      "text/html": [
       "<div>\n",
       "<style scoped>\n",
       "    .dataframe tbody tr th:only-of-type {\n",
       "        vertical-align: middle;\n",
       "    }\n",
       "\n",
       "    .dataframe tbody tr th {\n",
       "        vertical-align: top;\n",
       "    }\n",
       "\n",
       "    .dataframe thead th {\n",
       "        text-align: right;\n",
       "    }\n",
       "</style>\n",
       "<table border=\"1\" class=\"dataframe\">\n",
       "  <thead>\n",
       "    <tr style=\"text-align: right;\">\n",
       "      <th></th>\n",
       "      <th>unit</th>\n",
       "    </tr>\n",
       "  </thead>\n",
       "  <tbody>\n",
       "    <tr>\n",
       "      <th>count</th>\n",
       "      <td>0.0</td>\n",
       "    </tr>\n",
       "    <tr>\n",
       "      <th>mean</th>\n",
       "      <td>NaN</td>\n",
       "    </tr>\n",
       "    <tr>\n",
       "      <th>std</th>\n",
       "      <td>NaN</td>\n",
       "    </tr>\n",
       "    <tr>\n",
       "      <th>min</th>\n",
       "      <td>NaN</td>\n",
       "    </tr>\n",
       "    <tr>\n",
       "      <th>25%</th>\n",
       "      <td>NaN</td>\n",
       "    </tr>\n",
       "    <tr>\n",
       "      <th>50%</th>\n",
       "      <td>NaN</td>\n",
       "    </tr>\n",
       "    <tr>\n",
       "      <th>75%</th>\n",
       "      <td>NaN</td>\n",
       "    </tr>\n",
       "    <tr>\n",
       "      <th>max</th>\n",
       "      <td>NaN</td>\n",
       "    </tr>\n",
       "  </tbody>\n",
       "</table>\n",
       "</div>"
      ],
      "text/plain": [
       "       unit\n",
       "count   0.0\n",
       "mean    NaN\n",
       "std     NaN\n",
       "min     NaN\n",
       "25%     NaN\n",
       "50%     NaN\n",
       "75%     NaN\n",
       "max     NaN"
      ]
     },
     "execution_count": 19,
     "metadata": {},
     "output_type": "execute_result"
    }
   ],
   "source": [
    "stand.describe()"
   ]
  },
  {
   "cell_type": "code",
   "execution_count": 20,
   "metadata": {},
   "outputs": [
    {
     "data": {
      "text/html": [
       "<div>\n",
       "<style scoped>\n",
       "    .dataframe tbody tr th:only-of-type {\n",
       "        vertical-align: middle;\n",
       "    }\n",
       "\n",
       "    .dataframe tbody tr th {\n",
       "        vertical-align: top;\n",
       "    }\n",
       "\n",
       "    .dataframe thead th {\n",
       "        text-align: right;\n",
       "    }\n",
       "</style>\n",
       "<table border=\"1\" class=\"dataframe\">\n",
       "  <thead>\n",
       "    <tr style=\"text-align: right;\">\n",
       "      <th></th>\n",
       "      <th>sourceName</th>\n",
       "      <th>sourceVersion</th>\n",
       "      <th>device</th>\n",
       "      <th>type</th>\n",
       "      <th>unit</th>\n",
       "      <th>creationDate</th>\n",
       "      <th>startDate</th>\n",
       "      <th>endDate</th>\n",
       "      <th>value</th>\n",
       "    </tr>\n",
       "  </thead>\n",
       "  <tbody>\n",
       "    <tr>\n",
       "      <th>15551</th>\n",
       "      <td>Leeor’s Apple Watch</td>\n",
       "      <td>9.6.2</td>\n",
       "      <td>&lt;&lt;HKDevice: 0x28377f2a0&gt;, name:Apple Watch, ma...</td>\n",
       "      <td>AppleStandHour</td>\n",
       "      <td>NaN</td>\n",
       "      <td>2023-09-15 11:00:35 -0400</td>\n",
       "      <td>2023-09-15 10:00:00 -0400</td>\n",
       "      <td>2023-09-15 11:00:00 -0400</td>\n",
       "      <td>HKCategoryValueAppleStandHourIdle</td>\n",
       "    </tr>\n",
       "    <tr>\n",
       "      <th>15552</th>\n",
       "      <td>Leeor’s Apple Watch</td>\n",
       "      <td>9.6.2</td>\n",
       "      <td>&lt;&lt;HKDevice: 0x28377f2a0&gt;, name:Apple Watch, ma...</td>\n",
       "      <td>AppleStandHour</td>\n",
       "      <td>NaN</td>\n",
       "      <td>2023-09-15 11:56:21 -0400</td>\n",
       "      <td>2023-09-15 11:00:00 -0400</td>\n",
       "      <td>2023-09-15 12:00:00 -0400</td>\n",
       "      <td>HKCategoryValueAppleStandHourStood</td>\n",
       "    </tr>\n",
       "    <tr>\n",
       "      <th>15553</th>\n",
       "      <td>Leeor’s Apple Watch</td>\n",
       "      <td>9.6.2</td>\n",
       "      <td>&lt;&lt;HKDevice: 0x28377f2a0&gt;, name:Apple Watch, ma...</td>\n",
       "      <td>AppleStandHour</td>\n",
       "      <td>NaN</td>\n",
       "      <td>2023-09-15 12:41:22 -0400</td>\n",
       "      <td>2023-09-15 12:00:00 -0400</td>\n",
       "      <td>2023-09-15 13:00:00 -0400</td>\n",
       "      <td>HKCategoryValueAppleStandHourStood</td>\n",
       "    </tr>\n",
       "    <tr>\n",
       "      <th>15554</th>\n",
       "      <td>Leeor’s Apple Watch</td>\n",
       "      <td>9.6.2</td>\n",
       "      <td>&lt;&lt;HKDevice: 0x28377f2a0&gt;, name:Apple Watch, ma...</td>\n",
       "      <td>AppleStandHour</td>\n",
       "      <td>NaN</td>\n",
       "      <td>2023-09-15 13:09:26 -0400</td>\n",
       "      <td>2023-09-15 13:00:00 -0400</td>\n",
       "      <td>2023-09-15 14:00:00 -0400</td>\n",
       "      <td>HKCategoryValueAppleStandHourStood</td>\n",
       "    </tr>\n",
       "    <tr>\n",
       "      <th>15555</th>\n",
       "      <td>Leeor’s Apple Watch</td>\n",
       "      <td>9.6.2</td>\n",
       "      <td>&lt;&lt;HKDevice: 0x28377f2a0&gt;, name:Apple Watch, ma...</td>\n",
       "      <td>AppleStandHour</td>\n",
       "      <td>NaN</td>\n",
       "      <td>2023-09-15 14:01:03 -0400</td>\n",
       "      <td>2023-09-15 14:00:00 -0400</td>\n",
       "      <td>2023-09-15 15:00:00 -0400</td>\n",
       "      <td>HKCategoryValueAppleStandHourStood</td>\n",
       "    </tr>\n",
       "  </tbody>\n",
       "</table>\n",
       "</div>"
      ],
      "text/plain": [
       "                sourceName sourceVersion  \\\n",
       "15551  Leeor’s Apple Watch         9.6.2   \n",
       "15552  Leeor’s Apple Watch         9.6.2   \n",
       "15553  Leeor’s Apple Watch         9.6.2   \n",
       "15554  Leeor’s Apple Watch         9.6.2   \n",
       "15555  Leeor’s Apple Watch         9.6.2   \n",
       "\n",
       "                                                  device            type  \\\n",
       "15551  <<HKDevice: 0x28377f2a0>, name:Apple Watch, ma...  AppleStandHour   \n",
       "15552  <<HKDevice: 0x28377f2a0>, name:Apple Watch, ma...  AppleStandHour   \n",
       "15553  <<HKDevice: 0x28377f2a0>, name:Apple Watch, ma...  AppleStandHour   \n",
       "15554  <<HKDevice: 0x28377f2a0>, name:Apple Watch, ma...  AppleStandHour   \n",
       "15555  <<HKDevice: 0x28377f2a0>, name:Apple Watch, ma...  AppleStandHour   \n",
       "\n",
       "       unit               creationDate                  startDate  \\\n",
       "15551   NaN  2023-09-15 11:00:35 -0400  2023-09-15 10:00:00 -0400   \n",
       "15552   NaN  2023-09-15 11:56:21 -0400  2023-09-15 11:00:00 -0400   \n",
       "15553   NaN  2023-09-15 12:41:22 -0400  2023-09-15 12:00:00 -0400   \n",
       "15554   NaN  2023-09-15 13:09:26 -0400  2023-09-15 13:00:00 -0400   \n",
       "15555   NaN  2023-09-15 14:01:03 -0400  2023-09-15 14:00:00 -0400   \n",
       "\n",
       "                         endDate                               value  \n",
       "15551  2023-09-15 11:00:00 -0400   HKCategoryValueAppleStandHourIdle  \n",
       "15552  2023-09-15 12:00:00 -0400  HKCategoryValueAppleStandHourStood  \n",
       "15553  2023-09-15 13:00:00 -0400  HKCategoryValueAppleStandHourStood  \n",
       "15554  2023-09-15 14:00:00 -0400  HKCategoryValueAppleStandHourStood  \n",
       "15555  2023-09-15 15:00:00 -0400  HKCategoryValueAppleStandHourStood  "
      ]
     },
     "execution_count": 20,
     "metadata": {},
     "output_type": "execute_result"
    }
   ],
   "source": [
    "stand.tail()"
   ]
  },
  {
   "cell_type": "markdown",
   "metadata": {},
   "source": [
    "------"
   ]
  },
  {
   "cell_type": "markdown",
   "metadata": {},
   "source": [
    "## Resting Heart Rate (HR)"
   ]
  },
  {
   "cell_type": "code",
   "execution_count": 21,
   "metadata": {
    "collapsed": true
   },
   "outputs": [],
   "source": [
    "restingHR = pd.read_csv(\"data/RestingHeartRate.csv\")"
   ]
  },
  {
   "cell_type": "code",
   "execution_count": 22,
   "metadata": {},
   "outputs": [
    {
     "data": {
      "text/plain": [
       "1225"
      ]
     },
     "execution_count": 22,
     "metadata": {},
     "output_type": "execute_result"
    }
   ],
   "source": [
    "len(restingHR)"
   ]
  },
  {
   "cell_type": "code",
   "execution_count": 23,
   "metadata": {},
   "outputs": [
    {
     "data": {
      "text/html": [
       "<div>\n",
       "<style scoped>\n",
       "    .dataframe tbody tr th:only-of-type {\n",
       "        vertical-align: middle;\n",
       "    }\n",
       "\n",
       "    .dataframe tbody tr th {\n",
       "        vertical-align: top;\n",
       "    }\n",
       "\n",
       "    .dataframe thead th {\n",
       "        text-align: right;\n",
       "    }\n",
       "</style>\n",
       "<table border=\"1\" class=\"dataframe\">\n",
       "  <thead>\n",
       "    <tr style=\"text-align: right;\">\n",
       "      <th></th>\n",
       "      <th>device</th>\n",
       "      <th>value</th>\n",
       "    </tr>\n",
       "  </thead>\n",
       "  <tbody>\n",
       "    <tr>\n",
       "      <th>count</th>\n",
       "      <td>0.0</td>\n",
       "      <td>1225.000000</td>\n",
       "    </tr>\n",
       "    <tr>\n",
       "      <th>mean</th>\n",
       "      <td>NaN</td>\n",
       "      <td>61.378776</td>\n",
       "    </tr>\n",
       "    <tr>\n",
       "      <th>std</th>\n",
       "      <td>NaN</td>\n",
       "      <td>4.857802</td>\n",
       "    </tr>\n",
       "    <tr>\n",
       "      <th>min</th>\n",
       "      <td>NaN</td>\n",
       "      <td>47.000000</td>\n",
       "    </tr>\n",
       "    <tr>\n",
       "      <th>25%</th>\n",
       "      <td>NaN</td>\n",
       "      <td>58.000000</td>\n",
       "    </tr>\n",
       "    <tr>\n",
       "      <th>50%</th>\n",
       "      <td>NaN</td>\n",
       "      <td>61.000000</td>\n",
       "    </tr>\n",
       "    <tr>\n",
       "      <th>75%</th>\n",
       "      <td>NaN</td>\n",
       "      <td>65.000000</td>\n",
       "    </tr>\n",
       "    <tr>\n",
       "      <th>max</th>\n",
       "      <td>NaN</td>\n",
       "      <td>84.000000</td>\n",
       "    </tr>\n",
       "  </tbody>\n",
       "</table>\n",
       "</div>"
      ],
      "text/plain": [
       "       device        value\n",
       "count     0.0  1225.000000\n",
       "mean      NaN    61.378776\n",
       "std       NaN     4.857802\n",
       "min       NaN    47.000000\n",
       "25%       NaN    58.000000\n",
       "50%       NaN    61.000000\n",
       "75%       NaN    65.000000\n",
       "max       NaN    84.000000"
      ]
     },
     "execution_count": 23,
     "metadata": {},
     "output_type": "execute_result"
    }
   ],
   "source": [
    "restingHR.describe()"
   ]
  },
  {
   "cell_type": "markdown",
   "metadata": {},
   "source": [
    "---"
   ]
  },
  {
   "cell_type": "markdown",
   "metadata": {},
   "source": [
    "## Walking Heart Rate (HR) Average"
   ]
  },
  {
   "cell_type": "code",
   "execution_count": 24,
   "metadata": {
    "collapsed": true
   },
   "outputs": [],
   "source": [
    "walkingHR = pd.read_csv(\"data/WalkingHeartRateAverage.csv\")"
   ]
  },
  {
   "cell_type": "code",
   "execution_count": 25,
   "metadata": {},
   "outputs": [
    {
     "data": {
      "text/plain": [
       "1181"
      ]
     },
     "execution_count": 25,
     "metadata": {},
     "output_type": "execute_result"
    }
   ],
   "source": [
    "len(walkingHR)"
   ]
  },
  {
   "cell_type": "code",
   "execution_count": 26,
   "metadata": {},
   "outputs": [
    {
     "data": {
      "text/html": [
       "<div>\n",
       "<style scoped>\n",
       "    .dataframe tbody tr th:only-of-type {\n",
       "        vertical-align: middle;\n",
       "    }\n",
       "\n",
       "    .dataframe tbody tr th {\n",
       "        vertical-align: top;\n",
       "    }\n",
       "\n",
       "    .dataframe thead th {\n",
       "        text-align: right;\n",
       "    }\n",
       "</style>\n",
       "<table border=\"1\" class=\"dataframe\">\n",
       "  <thead>\n",
       "    <tr style=\"text-align: right;\">\n",
       "      <th></th>\n",
       "      <th>device</th>\n",
       "      <th>value</th>\n",
       "    </tr>\n",
       "  </thead>\n",
       "  <tbody>\n",
       "    <tr>\n",
       "      <th>count</th>\n",
       "      <td>0.0</td>\n",
       "      <td>1181.000000</td>\n",
       "    </tr>\n",
       "    <tr>\n",
       "      <th>mean</th>\n",
       "      <td>NaN</td>\n",
       "      <td>100.460627</td>\n",
       "    </tr>\n",
       "    <tr>\n",
       "      <th>std</th>\n",
       "      <td>NaN</td>\n",
       "      <td>10.749494</td>\n",
       "    </tr>\n",
       "    <tr>\n",
       "      <th>min</th>\n",
       "      <td>NaN</td>\n",
       "      <td>72.000000</td>\n",
       "    </tr>\n",
       "    <tr>\n",
       "      <th>25%</th>\n",
       "      <td>NaN</td>\n",
       "      <td>93.000000</td>\n",
       "    </tr>\n",
       "    <tr>\n",
       "      <th>50%</th>\n",
       "      <td>NaN</td>\n",
       "      <td>100.000000</td>\n",
       "    </tr>\n",
       "    <tr>\n",
       "      <th>75%</th>\n",
       "      <td>NaN</td>\n",
       "      <td>107.000000</td>\n",
       "    </tr>\n",
       "    <tr>\n",
       "      <th>max</th>\n",
       "      <td>NaN</td>\n",
       "      <td>163.000000</td>\n",
       "    </tr>\n",
       "  </tbody>\n",
       "</table>\n",
       "</div>"
      ],
      "text/plain": [
       "       device        value\n",
       "count     0.0  1181.000000\n",
       "mean      NaN   100.460627\n",
       "std       NaN    10.749494\n",
       "min       NaN    72.000000\n",
       "25%       NaN    93.000000\n",
       "50%       NaN   100.000000\n",
       "75%       NaN   107.000000\n",
       "max       NaN   163.000000"
      ]
     },
     "execution_count": 26,
     "metadata": {},
     "output_type": "execute_result"
    }
   ],
   "source": [
    "walkingHR.describe()"
   ]
  },
  {
   "cell_type": "markdown",
   "metadata": {},
   "source": [
    "---"
   ]
  },
  {
   "cell_type": "markdown",
   "metadata": {},
   "source": [
    "## Heart Rate Variability (HRV)"
   ]
  },
  {
   "cell_type": "code",
   "execution_count": 27,
   "metadata": {
    "collapsed": true
   },
   "outputs": [],
   "source": [
    "hrv = pd.read_csv(\"data/HeartRateVariabilitySDNN.csv\")"
   ]
  },
  {
   "cell_type": "code",
   "execution_count": 28,
   "metadata": {},
   "outputs": [
    {
     "data": {
      "text/plain": [
       "3256"
      ]
     },
     "execution_count": 28,
     "metadata": {},
     "output_type": "execute_result"
    }
   ],
   "source": [
    "len(hrv)"
   ]
  },
  {
   "cell_type": "code",
   "execution_count": 29,
   "metadata": {},
   "outputs": [
    {
     "data": {
      "text/plain": [
       "Index(['sourceName', 'sourceVersion', 'device', 'type', 'unit', 'creationDate',\n",
       "       'startDate', 'endDate', 'value'],\n",
       "      dtype='object')"
      ]
     },
     "execution_count": 29,
     "metadata": {},
     "output_type": "execute_result"
    }
   ],
   "source": [
    "hrv.columns"
   ]
  },
  {
   "cell_type": "code",
   "execution_count": 30,
   "metadata": {},
   "outputs": [
    {
     "data": {
      "text/html": [
       "<div>\n",
       "<style scoped>\n",
       "    .dataframe tbody tr th:only-of-type {\n",
       "        vertical-align: middle;\n",
       "    }\n",
       "\n",
       "    .dataframe tbody tr th {\n",
       "        vertical-align: top;\n",
       "    }\n",
       "\n",
       "    .dataframe thead th {\n",
       "        text-align: right;\n",
       "    }\n",
       "</style>\n",
       "<table border=\"1\" class=\"dataframe\">\n",
       "  <thead>\n",
       "    <tr style=\"text-align: right;\">\n",
       "      <th></th>\n",
       "      <th>value</th>\n",
       "    </tr>\n",
       "  </thead>\n",
       "  <tbody>\n",
       "    <tr>\n",
       "      <th>count</th>\n",
       "      <td>3256.000000</td>\n",
       "    </tr>\n",
       "    <tr>\n",
       "      <th>mean</th>\n",
       "      <td>52.767602</td>\n",
       "    </tr>\n",
       "    <tr>\n",
       "      <th>std</th>\n",
       "      <td>19.636088</td>\n",
       "    </tr>\n",
       "    <tr>\n",
       "      <th>min</th>\n",
       "      <td>11.465200</td>\n",
       "    </tr>\n",
       "    <tr>\n",
       "      <th>25%</th>\n",
       "      <td>39.706450</td>\n",
       "    </tr>\n",
       "    <tr>\n",
       "      <th>50%</th>\n",
       "      <td>50.024150</td>\n",
       "    </tr>\n",
       "    <tr>\n",
       "      <th>75%</th>\n",
       "      <td>62.723525</td>\n",
       "    </tr>\n",
       "    <tr>\n",
       "      <th>max</th>\n",
       "      <td>181.086000</td>\n",
       "    </tr>\n",
       "  </tbody>\n",
       "</table>\n",
       "</div>"
      ],
      "text/plain": [
       "             value\n",
       "count  3256.000000\n",
       "mean     52.767602\n",
       "std      19.636088\n",
       "min      11.465200\n",
       "25%      39.706450\n",
       "50%      50.024150\n",
       "75%      62.723525\n",
       "max     181.086000"
      ]
     },
     "execution_count": 30,
     "metadata": {},
     "output_type": "execute_result"
    }
   ],
   "source": [
    "hrv.describe()"
   ]
  },
  {
   "cell_type": "code",
   "execution_count": 31,
   "metadata": {},
   "outputs": [
    {
     "data": {
      "text/html": [
       "<div>\n",
       "<style scoped>\n",
       "    .dataframe tbody tr th:only-of-type {\n",
       "        vertical-align: middle;\n",
       "    }\n",
       "\n",
       "    .dataframe tbody tr th {\n",
       "        vertical-align: top;\n",
       "    }\n",
       "\n",
       "    .dataframe thead th {\n",
       "        text-align: right;\n",
       "    }\n",
       "</style>\n",
       "<table border=\"1\" class=\"dataframe\">\n",
       "  <thead>\n",
       "    <tr style=\"text-align: right;\">\n",
       "      <th></th>\n",
       "      <th>sourceName</th>\n",
       "      <th>sourceVersion</th>\n",
       "      <th>device</th>\n",
       "      <th>type</th>\n",
       "      <th>unit</th>\n",
       "      <th>creationDate</th>\n",
       "      <th>startDate</th>\n",
       "      <th>endDate</th>\n",
       "      <th>value</th>\n",
       "    </tr>\n",
       "  </thead>\n",
       "  <tbody>\n",
       "    <tr>\n",
       "      <th>3251</th>\n",
       "      <td>Leeor’s Apple Watch</td>\n",
       "      <td>9.6.2</td>\n",
       "      <td>&lt;&lt;HKDevice: 0x283770640&gt;, name:Apple Watch, ma...</td>\n",
       "      <td>HeartRateVariabilitySDNN</td>\n",
       "      <td>ms</td>\n",
       "      <td>2023-09-14 13:42:40 -0400</td>\n",
       "      <td>2023-09-14 13:41:38 -0400</td>\n",
       "      <td>2023-09-14 13:42:38 -0400</td>\n",
       "      <td>39.5751</td>\n",
       "    </tr>\n",
       "    <tr>\n",
       "      <th>3252</th>\n",
       "      <td>Leeor’s Apple Watch</td>\n",
       "      <td>9.6.2</td>\n",
       "      <td>&lt;&lt;HKDevice: 0x283770640&gt;, name:Apple Watch, ma...</td>\n",
       "      <td>HeartRateVariabilitySDNN</td>\n",
       "      <td>ms</td>\n",
       "      <td>2023-09-14 17:58:22 -0400</td>\n",
       "      <td>2023-09-14 17:57:20 -0400</td>\n",
       "      <td>2023-09-14 17:58:19 -0400</td>\n",
       "      <td>57.1949</td>\n",
       "    </tr>\n",
       "    <tr>\n",
       "      <th>3253</th>\n",
       "      <td>Leeor’s Apple Watch</td>\n",
       "      <td>9.6.2</td>\n",
       "      <td>&lt;&lt;HKDevice: 0x283770640&gt;, name:Apple Watch, ma...</td>\n",
       "      <td>HeartRateVariabilitySDNN</td>\n",
       "      <td>ms</td>\n",
       "      <td>2023-09-14 22:06:13 -0400</td>\n",
       "      <td>2023-09-14 22:05:12 -0400</td>\n",
       "      <td>2023-09-14 22:06:11 -0400</td>\n",
       "      <td>39.6889</td>\n",
       "    </tr>\n",
       "    <tr>\n",
       "      <th>3254</th>\n",
       "      <td>Leeor’s Apple Watch</td>\n",
       "      <td>9.6.2</td>\n",
       "      <td>&lt;&lt;HKDevice: 0x283770640&gt;, name:Apple Watch, ma...</td>\n",
       "      <td>HeartRateVariabilitySDNN</td>\n",
       "      <td>ms</td>\n",
       "      <td>2023-09-15 09:46:15 -0400</td>\n",
       "      <td>2023-09-15 09:45:13 -0400</td>\n",
       "      <td>2023-09-15 09:46:13 -0400</td>\n",
       "      <td>81.9324</td>\n",
       "    </tr>\n",
       "    <tr>\n",
       "      <th>3255</th>\n",
       "      <td>Leeor’s Apple Watch</td>\n",
       "      <td>9.6.2</td>\n",
       "      <td>&lt;&lt;HKDevice: 0x283770640&gt;, name:Apple Watch, ma...</td>\n",
       "      <td>HeartRateVariabilitySDNN</td>\n",
       "      <td>ms</td>\n",
       "      <td>2023-09-15 14:28:07 -0400</td>\n",
       "      <td>2023-09-15 14:27:04 -0400</td>\n",
       "      <td>2023-09-15 14:28:04 -0400</td>\n",
       "      <td>48.1281</td>\n",
       "    </tr>\n",
       "  </tbody>\n",
       "</table>\n",
       "</div>"
      ],
      "text/plain": [
       "               sourceName sourceVersion  \\\n",
       "3251  Leeor’s Apple Watch         9.6.2   \n",
       "3252  Leeor’s Apple Watch         9.6.2   \n",
       "3253  Leeor’s Apple Watch         9.6.2   \n",
       "3254  Leeor’s Apple Watch         9.6.2   \n",
       "3255  Leeor’s Apple Watch         9.6.2   \n",
       "\n",
       "                                                 device  \\\n",
       "3251  <<HKDevice: 0x283770640>, name:Apple Watch, ma...   \n",
       "3252  <<HKDevice: 0x283770640>, name:Apple Watch, ma...   \n",
       "3253  <<HKDevice: 0x283770640>, name:Apple Watch, ma...   \n",
       "3254  <<HKDevice: 0x283770640>, name:Apple Watch, ma...   \n",
       "3255  <<HKDevice: 0x283770640>, name:Apple Watch, ma...   \n",
       "\n",
       "                          type unit               creationDate  \\\n",
       "3251  HeartRateVariabilitySDNN   ms  2023-09-14 13:42:40 -0400   \n",
       "3252  HeartRateVariabilitySDNN   ms  2023-09-14 17:58:22 -0400   \n",
       "3253  HeartRateVariabilitySDNN   ms  2023-09-14 22:06:13 -0400   \n",
       "3254  HeartRateVariabilitySDNN   ms  2023-09-15 09:46:15 -0400   \n",
       "3255  HeartRateVariabilitySDNN   ms  2023-09-15 14:28:07 -0400   \n",
       "\n",
       "                      startDate                    endDate    value  \n",
       "3251  2023-09-14 13:41:38 -0400  2023-09-14 13:42:38 -0400  39.5751  \n",
       "3252  2023-09-14 17:57:20 -0400  2023-09-14 17:58:19 -0400  57.1949  \n",
       "3253  2023-09-14 22:05:12 -0400  2023-09-14 22:06:11 -0400  39.6889  \n",
       "3254  2023-09-15 09:45:13 -0400  2023-09-15 09:46:13 -0400  81.9324  \n",
       "3255  2023-09-15 14:27:04 -0400  2023-09-15 14:28:04 -0400  48.1281  "
      ]
     },
     "execution_count": 31,
     "metadata": {},
     "output_type": "execute_result"
    }
   ],
   "source": [
    "hrv.tail()"
   ]
  },
  {
   "cell_type": "markdown",
   "metadata": {},
   "source": [
    "-------"
   ]
  },
  {
   "cell_type": "markdown",
   "metadata": {},
   "source": [
    "## VO2 Max"
   ]
  },
  {
   "cell_type": "code",
   "execution_count": 32,
   "metadata": {
    "collapsed": true
   },
   "outputs": [],
   "source": [
    "vo2max = pd.read_csv(\"data/VO2Max.csv\")"
   ]
  },
  {
   "cell_type": "code",
   "execution_count": 33,
   "metadata": {},
   "outputs": [
    {
     "data": {
      "text/plain": [
       "290"
      ]
     },
     "execution_count": 33,
     "metadata": {},
     "output_type": "execute_result"
    }
   ],
   "source": [
    "len(vo2max)"
   ]
  },
  {
   "cell_type": "code",
   "execution_count": 34,
   "metadata": {},
   "outputs": [
    {
     "data": {
      "text/html": [
       "<div>\n",
       "<style scoped>\n",
       "    .dataframe tbody tr th:only-of-type {\n",
       "        vertical-align: middle;\n",
       "    }\n",
       "\n",
       "    .dataframe tbody tr th {\n",
       "        vertical-align: top;\n",
       "    }\n",
       "\n",
       "    .dataframe thead th {\n",
       "        text-align: right;\n",
       "    }\n",
       "</style>\n",
       "<table border=\"1\" class=\"dataframe\">\n",
       "  <thead>\n",
       "    <tr style=\"text-align: right;\">\n",
       "      <th></th>\n",
       "      <th>device</th>\n",
       "      <th>value</th>\n",
       "    </tr>\n",
       "  </thead>\n",
       "  <tbody>\n",
       "    <tr>\n",
       "      <th>count</th>\n",
       "      <td>0.0</td>\n",
       "      <td>290.000000</td>\n",
       "    </tr>\n",
       "    <tr>\n",
       "      <th>mean</th>\n",
       "      <td>NaN</td>\n",
       "      <td>43.278990</td>\n",
       "    </tr>\n",
       "    <tr>\n",
       "      <th>std</th>\n",
       "      <td>NaN</td>\n",
       "      <td>1.698037</td>\n",
       "    </tr>\n",
       "    <tr>\n",
       "      <th>min</th>\n",
       "      <td>NaN</td>\n",
       "      <td>38.250000</td>\n",
       "    </tr>\n",
       "    <tr>\n",
       "      <th>25%</th>\n",
       "      <td>NaN</td>\n",
       "      <td>42.205000</td>\n",
       "    </tr>\n",
       "    <tr>\n",
       "      <th>50%</th>\n",
       "      <td>NaN</td>\n",
       "      <td>43.110000</td>\n",
       "    </tr>\n",
       "    <tr>\n",
       "      <th>75%</th>\n",
       "      <td>NaN</td>\n",
       "      <td>44.470000</td>\n",
       "    </tr>\n",
       "    <tr>\n",
       "      <th>max</th>\n",
       "      <td>NaN</td>\n",
       "      <td>47.000000</td>\n",
       "    </tr>\n",
       "  </tbody>\n",
       "</table>\n",
       "</div>"
      ],
      "text/plain": [
       "       device       value\n",
       "count     0.0  290.000000\n",
       "mean      NaN   43.278990\n",
       "std       NaN    1.698037\n",
       "min       NaN   38.250000\n",
       "25%       NaN   42.205000\n",
       "50%       NaN   43.110000\n",
       "75%       NaN   44.470000\n",
       "max       NaN   47.000000"
      ]
     },
     "execution_count": 34,
     "metadata": {},
     "output_type": "execute_result"
    }
   ],
   "source": [
    "vo2max.describe()"
   ]
  },
  {
   "cell_type": "markdown",
   "metadata": {},
   "source": [
    "----"
   ]
  },
  {
   "cell_type": "markdown",
   "metadata": {},
   "source": [
    "## Blood Pressure"
   ]
  },
  {
   "cell_type": "code",
   "execution_count": 35,
   "metadata": {
    "collapsed": true
   },
   "outputs": [
    {
     "ename": "FileNotFoundError",
     "evalue": "[Errno 2] No such file or directory: 'data/BloodPressureDiastolic.csv'",
     "output_type": "error",
     "traceback": [
      "\u001b[1;31m---------------------------------------------------------------------------\u001b[0m",
      "\u001b[1;31mFileNotFoundError\u001b[0m                         Traceback (most recent call last)",
      "\u001b[1;32mc:\\Users\\chope\\OneDrive\\Documents\\GitHub\\qs_ledger\\apple_health\\apple_health_extractor.ipynb Cell 55\u001b[0m line \u001b[0;36m<module>\u001b[1;34m\u001b[0m\n\u001b[1;32m----> <a href='vscode-notebook-cell:/c%3A/Users/chope/OneDrive/Documents/GitHub/qs_ledger/apple_health/apple_health_extractor.ipynb#Y105sZmlsZQ%3D%3D?line=0'>1</a>\u001b[0m diastolic \u001b[39m=\u001b[39m pd\u001b[39m.\u001b[39;49mread_csv(\u001b[39m\"\u001b[39;49m\u001b[39mdata/BloodPressureDiastolic.csv\u001b[39;49m\u001b[39m\"\u001b[39;49m)\n\u001b[0;32m      <a href='vscode-notebook-cell:/c%3A/Users/chope/OneDrive/Documents/GitHub/qs_ledger/apple_health/apple_health_extractor.ipynb#Y105sZmlsZQ%3D%3D?line=1'>2</a>\u001b[0m systolic \u001b[39m=\u001b[39m pd\u001b[39m.\u001b[39mread_csv(\u001b[39m\"\u001b[39m\u001b[39mdata/BloodPressureSystolic.csv\u001b[39m\u001b[39m\"\u001b[39m)\n",
      "File \u001b[1;32mc:\\Users\\chope\\AppData\\Local\\Programs\\Python\\Python310\\lib\\site-packages\\pandas\\util\\_decorators.py:211\u001b[0m, in \u001b[0;36mdeprecate_kwarg.<locals>._deprecate_kwarg.<locals>.wrapper\u001b[1;34m(*args, **kwargs)\u001b[0m\n\u001b[0;32m    209\u001b[0m     \u001b[39melse\u001b[39;00m:\n\u001b[0;32m    210\u001b[0m         kwargs[new_arg_name] \u001b[39m=\u001b[39m new_arg_value\n\u001b[1;32m--> 211\u001b[0m \u001b[39mreturn\u001b[39;00m func(\u001b[39m*\u001b[39margs, \u001b[39m*\u001b[39m\u001b[39m*\u001b[39mkwargs)\n",
      "File \u001b[1;32mc:\\Users\\chope\\AppData\\Local\\Programs\\Python\\Python310\\lib\\site-packages\\pandas\\util\\_decorators.py:331\u001b[0m, in \u001b[0;36mdeprecate_nonkeyword_arguments.<locals>.decorate.<locals>.wrapper\u001b[1;34m(*args, **kwargs)\u001b[0m\n\u001b[0;32m    325\u001b[0m \u001b[39mif\u001b[39;00m \u001b[39mlen\u001b[39m(args) \u001b[39m>\u001b[39m num_allow_args:\n\u001b[0;32m    326\u001b[0m     warnings\u001b[39m.\u001b[39mwarn(\n\u001b[0;32m    327\u001b[0m         msg\u001b[39m.\u001b[39mformat(arguments\u001b[39m=\u001b[39m_format_argument_list(allow_args)),\n\u001b[0;32m    328\u001b[0m         \u001b[39mFutureWarning\u001b[39;00m,\n\u001b[0;32m    329\u001b[0m         stacklevel\u001b[39m=\u001b[39mfind_stack_level(),\n\u001b[0;32m    330\u001b[0m     )\n\u001b[1;32m--> 331\u001b[0m \u001b[39mreturn\u001b[39;00m func(\u001b[39m*\u001b[39margs, \u001b[39m*\u001b[39m\u001b[39m*\u001b[39mkwargs)\n",
      "File \u001b[1;32mc:\\Users\\chope\\AppData\\Local\\Programs\\Python\\Python310\\lib\\site-packages\\pandas\\io\\parsers\\readers.py:950\u001b[0m, in \u001b[0;36mread_csv\u001b[1;34m(filepath_or_buffer, sep, delimiter, header, names, index_col, usecols, squeeze, prefix, mangle_dupe_cols, dtype, engine, converters, true_values, false_values, skipinitialspace, skiprows, skipfooter, nrows, na_values, keep_default_na, na_filter, verbose, skip_blank_lines, parse_dates, infer_datetime_format, keep_date_col, date_parser, dayfirst, cache_dates, iterator, chunksize, compression, thousands, decimal, lineterminator, quotechar, quoting, doublequote, escapechar, comment, encoding, encoding_errors, dialect, error_bad_lines, warn_bad_lines, on_bad_lines, delim_whitespace, low_memory, memory_map, float_precision, storage_options)\u001b[0m\n\u001b[0;32m    935\u001b[0m kwds_defaults \u001b[39m=\u001b[39m _refine_defaults_read(\n\u001b[0;32m    936\u001b[0m     dialect,\n\u001b[0;32m    937\u001b[0m     delimiter,\n\u001b[1;32m   (...)\u001b[0m\n\u001b[0;32m    946\u001b[0m     defaults\u001b[39m=\u001b[39m{\u001b[39m\"\u001b[39m\u001b[39mdelimiter\u001b[39m\u001b[39m\"\u001b[39m: \u001b[39m\"\u001b[39m\u001b[39m,\u001b[39m\u001b[39m\"\u001b[39m},\n\u001b[0;32m    947\u001b[0m )\n\u001b[0;32m    948\u001b[0m kwds\u001b[39m.\u001b[39mupdate(kwds_defaults)\n\u001b[1;32m--> 950\u001b[0m \u001b[39mreturn\u001b[39;00m _read(filepath_or_buffer, kwds)\n",
      "File \u001b[1;32mc:\\Users\\chope\\AppData\\Local\\Programs\\Python\\Python310\\lib\\site-packages\\pandas\\io\\parsers\\readers.py:605\u001b[0m, in \u001b[0;36m_read\u001b[1;34m(filepath_or_buffer, kwds)\u001b[0m\n\u001b[0;32m    602\u001b[0m _validate_names(kwds\u001b[39m.\u001b[39mget(\u001b[39m\"\u001b[39m\u001b[39mnames\u001b[39m\u001b[39m\"\u001b[39m, \u001b[39mNone\u001b[39;00m))\n\u001b[0;32m    604\u001b[0m \u001b[39m# Create the parser.\u001b[39;00m\n\u001b[1;32m--> 605\u001b[0m parser \u001b[39m=\u001b[39m TextFileReader(filepath_or_buffer, \u001b[39m*\u001b[39m\u001b[39m*\u001b[39mkwds)\n\u001b[0;32m    607\u001b[0m \u001b[39mif\u001b[39;00m chunksize \u001b[39mor\u001b[39;00m iterator:\n\u001b[0;32m    608\u001b[0m     \u001b[39mreturn\u001b[39;00m parser\n",
      "File \u001b[1;32mc:\\Users\\chope\\AppData\\Local\\Programs\\Python\\Python310\\lib\\site-packages\\pandas\\io\\parsers\\readers.py:1442\u001b[0m, in \u001b[0;36mTextFileReader.__init__\u001b[1;34m(self, f, engine, **kwds)\u001b[0m\n\u001b[0;32m   1439\u001b[0m     \u001b[39mself\u001b[39m\u001b[39m.\u001b[39moptions[\u001b[39m\"\u001b[39m\u001b[39mhas_index_names\u001b[39m\u001b[39m\"\u001b[39m] \u001b[39m=\u001b[39m kwds[\u001b[39m\"\u001b[39m\u001b[39mhas_index_names\u001b[39m\u001b[39m\"\u001b[39m]\n\u001b[0;32m   1441\u001b[0m \u001b[39mself\u001b[39m\u001b[39m.\u001b[39mhandles: IOHandles \u001b[39m|\u001b[39m \u001b[39mNone\u001b[39;00m \u001b[39m=\u001b[39m \u001b[39mNone\u001b[39;00m\n\u001b[1;32m-> 1442\u001b[0m \u001b[39mself\u001b[39m\u001b[39m.\u001b[39m_engine \u001b[39m=\u001b[39m \u001b[39mself\u001b[39;49m\u001b[39m.\u001b[39;49m_make_engine(f, \u001b[39mself\u001b[39;49m\u001b[39m.\u001b[39;49mengine)\n",
      "File \u001b[1;32mc:\\Users\\chope\\AppData\\Local\\Programs\\Python\\Python310\\lib\\site-packages\\pandas\\io\\parsers\\readers.py:1735\u001b[0m, in \u001b[0;36mTextFileReader._make_engine\u001b[1;34m(self, f, engine)\u001b[0m\n\u001b[0;32m   1733\u001b[0m     \u001b[39mif\u001b[39;00m \u001b[39m\"\u001b[39m\u001b[39mb\u001b[39m\u001b[39m\"\u001b[39m \u001b[39mnot\u001b[39;00m \u001b[39min\u001b[39;00m mode:\n\u001b[0;32m   1734\u001b[0m         mode \u001b[39m+\u001b[39m\u001b[39m=\u001b[39m \u001b[39m\"\u001b[39m\u001b[39mb\u001b[39m\u001b[39m\"\u001b[39m\n\u001b[1;32m-> 1735\u001b[0m \u001b[39mself\u001b[39m\u001b[39m.\u001b[39mhandles \u001b[39m=\u001b[39m get_handle(\n\u001b[0;32m   1736\u001b[0m     f,\n\u001b[0;32m   1737\u001b[0m     mode,\n\u001b[0;32m   1738\u001b[0m     encoding\u001b[39m=\u001b[39;49m\u001b[39mself\u001b[39;49m\u001b[39m.\u001b[39;49moptions\u001b[39m.\u001b[39;49mget(\u001b[39m\"\u001b[39;49m\u001b[39mencoding\u001b[39;49m\u001b[39m\"\u001b[39;49m, \u001b[39mNone\u001b[39;49;00m),\n\u001b[0;32m   1739\u001b[0m     compression\u001b[39m=\u001b[39;49m\u001b[39mself\u001b[39;49m\u001b[39m.\u001b[39;49moptions\u001b[39m.\u001b[39;49mget(\u001b[39m\"\u001b[39;49m\u001b[39mcompression\u001b[39;49m\u001b[39m\"\u001b[39;49m, \u001b[39mNone\u001b[39;49;00m),\n\u001b[0;32m   1740\u001b[0m     memory_map\u001b[39m=\u001b[39;49m\u001b[39mself\u001b[39;49m\u001b[39m.\u001b[39;49moptions\u001b[39m.\u001b[39;49mget(\u001b[39m\"\u001b[39;49m\u001b[39mmemory_map\u001b[39;49m\u001b[39m\"\u001b[39;49m, \u001b[39mFalse\u001b[39;49;00m),\n\u001b[0;32m   1741\u001b[0m     is_text\u001b[39m=\u001b[39;49mis_text,\n\u001b[0;32m   1742\u001b[0m     errors\u001b[39m=\u001b[39;49m\u001b[39mself\u001b[39;49m\u001b[39m.\u001b[39;49moptions\u001b[39m.\u001b[39;49mget(\u001b[39m\"\u001b[39;49m\u001b[39mencoding_errors\u001b[39;49m\u001b[39m\"\u001b[39;49m, \u001b[39m\"\u001b[39;49m\u001b[39mstrict\u001b[39;49m\u001b[39m\"\u001b[39;49m),\n\u001b[0;32m   1743\u001b[0m     storage_options\u001b[39m=\u001b[39;49m\u001b[39mself\u001b[39;49m\u001b[39m.\u001b[39;49moptions\u001b[39m.\u001b[39;49mget(\u001b[39m\"\u001b[39;49m\u001b[39mstorage_options\u001b[39;49m\u001b[39m\"\u001b[39;49m, \u001b[39mNone\u001b[39;49;00m),\n\u001b[0;32m   1744\u001b[0m )\n\u001b[0;32m   1745\u001b[0m \u001b[39massert\u001b[39;00m \u001b[39mself\u001b[39m\u001b[39m.\u001b[39mhandles \u001b[39mis\u001b[39;00m \u001b[39mnot\u001b[39;00m \u001b[39mNone\u001b[39;00m\n\u001b[0;32m   1746\u001b[0m f \u001b[39m=\u001b[39m \u001b[39mself\u001b[39m\u001b[39m.\u001b[39mhandles\u001b[39m.\u001b[39mhandle\n",
      "File \u001b[1;32mc:\\Users\\chope\\AppData\\Local\\Programs\\Python\\Python310\\lib\\site-packages\\pandas\\io\\common.py:856\u001b[0m, in \u001b[0;36mget_handle\u001b[1;34m(path_or_buf, mode, encoding, compression, memory_map, is_text, errors, storage_options)\u001b[0m\n\u001b[0;32m    851\u001b[0m \u001b[39melif\u001b[39;00m \u001b[39misinstance\u001b[39m(handle, \u001b[39mstr\u001b[39m):\n\u001b[0;32m    852\u001b[0m     \u001b[39m# Check whether the filename is to be opened in binary mode.\u001b[39;00m\n\u001b[0;32m    853\u001b[0m     \u001b[39m# Binary mode does not support 'encoding' and 'newline'.\u001b[39;00m\n\u001b[0;32m    854\u001b[0m     \u001b[39mif\u001b[39;00m ioargs\u001b[39m.\u001b[39mencoding \u001b[39mand\u001b[39;00m \u001b[39m\"\u001b[39m\u001b[39mb\u001b[39m\u001b[39m\"\u001b[39m \u001b[39mnot\u001b[39;00m \u001b[39min\u001b[39;00m ioargs\u001b[39m.\u001b[39mmode:\n\u001b[0;32m    855\u001b[0m         \u001b[39m# Encoding\u001b[39;00m\n\u001b[1;32m--> 856\u001b[0m         handle \u001b[39m=\u001b[39m \u001b[39mopen\u001b[39;49m(\n\u001b[0;32m    857\u001b[0m             handle,\n\u001b[0;32m    858\u001b[0m             ioargs\u001b[39m.\u001b[39;49mmode,\n\u001b[0;32m    859\u001b[0m             encoding\u001b[39m=\u001b[39;49mioargs\u001b[39m.\u001b[39;49mencoding,\n\u001b[0;32m    860\u001b[0m             errors\u001b[39m=\u001b[39;49merrors,\n\u001b[0;32m    861\u001b[0m             newline\u001b[39m=\u001b[39;49m\u001b[39m\"\u001b[39;49m\u001b[39m\"\u001b[39;49m,\n\u001b[0;32m    862\u001b[0m         )\n\u001b[0;32m    863\u001b[0m     \u001b[39melse\u001b[39;00m:\n\u001b[0;32m    864\u001b[0m         \u001b[39m# Binary mode\u001b[39;00m\n\u001b[0;32m    865\u001b[0m         handle \u001b[39m=\u001b[39m \u001b[39mopen\u001b[39m(handle, ioargs\u001b[39m.\u001b[39mmode)\n",
      "\u001b[1;31mFileNotFoundError\u001b[0m: [Errno 2] No such file or directory: 'data/BloodPressureDiastolic.csv'"
     ]
    }
   ],
   "source": [
    "diastolic = pd.read_csv(\"data/BloodPressureDiastolic.csv\")\n",
    "systolic = pd.read_csv(\"data/BloodPressureSystolic.csv\")"
   ]
  },
  {
   "cell_type": "code",
   "execution_count": null,
   "metadata": {},
   "outputs": [
    {
     "data": {
      "text/html": [
       "<div>\n",
       "<style>\n",
       "    .dataframe thead tr:only-child th {\n",
       "        text-align: right;\n",
       "    }\n",
       "\n",
       "    .dataframe thead th {\n",
       "        text-align: left;\n",
       "    }\n",
       "\n",
       "    .dataframe tbody tr th {\n",
       "        vertical-align: top;\n",
       "    }\n",
       "</style>\n",
       "<table border=\"1\" class=\"dataframe\">\n",
       "  <thead>\n",
       "    <tr style=\"text-align: right;\">\n",
       "      <th></th>\n",
       "      <th>device</th>\n",
       "      <th>value</th>\n",
       "    </tr>\n",
       "  </thead>\n",
       "  <tbody>\n",
       "    <tr>\n",
       "      <th>count</th>\n",
       "      <td>0.0</td>\n",
       "      <td>29.000000</td>\n",
       "    </tr>\n",
       "    <tr>\n",
       "      <th>mean</th>\n",
       "      <td>NaN</td>\n",
       "      <td>65.586207</td>\n",
       "    </tr>\n",
       "    <tr>\n",
       "      <th>std</th>\n",
       "      <td>NaN</td>\n",
       "      <td>5.081600</td>\n",
       "    </tr>\n",
       "    <tr>\n",
       "      <th>min</th>\n",
       "      <td>NaN</td>\n",
       "      <td>55.000000</td>\n",
       "    </tr>\n",
       "    <tr>\n",
       "      <th>25%</th>\n",
       "      <td>NaN</td>\n",
       "      <td>63.000000</td>\n",
       "    </tr>\n",
       "    <tr>\n",
       "      <th>50%</th>\n",
       "      <td>NaN</td>\n",
       "      <td>67.000000</td>\n",
       "    </tr>\n",
       "    <tr>\n",
       "      <th>75%</th>\n",
       "      <td>NaN</td>\n",
       "      <td>69.000000</td>\n",
       "    </tr>\n",
       "    <tr>\n",
       "      <th>max</th>\n",
       "      <td>NaN</td>\n",
       "      <td>76.000000</td>\n",
       "    </tr>\n",
       "  </tbody>\n",
       "</table>\n",
       "</div>"
      ],
      "text/plain": [
       "       device      value\n",
       "count     0.0  29.000000\n",
       "mean      NaN  65.586207\n",
       "std       NaN   5.081600\n",
       "min       NaN  55.000000\n",
       "25%       NaN  63.000000\n",
       "50%       NaN  67.000000\n",
       "75%       NaN  69.000000\n",
       "max       NaN  76.000000"
      ]
     },
     "execution_count": 32,
     "metadata": {},
     "output_type": "execute_result"
    }
   ],
   "source": [
    "diastolic.describe()"
   ]
  },
  {
   "cell_type": "code",
   "execution_count": null,
   "metadata": {},
   "outputs": [
    {
     "data": {
      "text/html": [
       "<div>\n",
       "<style>\n",
       "    .dataframe thead tr:only-child th {\n",
       "        text-align: right;\n",
       "    }\n",
       "\n",
       "    .dataframe thead th {\n",
       "        text-align: left;\n",
       "    }\n",
       "\n",
       "    .dataframe tbody tr th {\n",
       "        vertical-align: top;\n",
       "    }\n",
       "</style>\n",
       "<table border=\"1\" class=\"dataframe\">\n",
       "  <thead>\n",
       "    <tr style=\"text-align: right;\">\n",
       "      <th></th>\n",
       "      <th>device</th>\n",
       "      <th>value</th>\n",
       "    </tr>\n",
       "  </thead>\n",
       "  <tbody>\n",
       "    <tr>\n",
       "      <th>count</th>\n",
       "      <td>0.0</td>\n",
       "      <td>29.000000</td>\n",
       "    </tr>\n",
       "    <tr>\n",
       "      <th>mean</th>\n",
       "      <td>NaN</td>\n",
       "      <td>113.206897</td>\n",
       "    </tr>\n",
       "    <tr>\n",
       "      <th>std</th>\n",
       "      <td>NaN</td>\n",
       "      <td>8.973689</td>\n",
       "    </tr>\n",
       "    <tr>\n",
       "      <th>min</th>\n",
       "      <td>NaN</td>\n",
       "      <td>95.000000</td>\n",
       "    </tr>\n",
       "    <tr>\n",
       "      <th>25%</th>\n",
       "      <td>NaN</td>\n",
       "      <td>106.000000</td>\n",
       "    </tr>\n",
       "    <tr>\n",
       "      <th>50%</th>\n",
       "      <td>NaN</td>\n",
       "      <td>112.000000</td>\n",
       "    </tr>\n",
       "    <tr>\n",
       "      <th>75%</th>\n",
       "      <td>NaN</td>\n",
       "      <td>122.000000</td>\n",
       "    </tr>\n",
       "    <tr>\n",
       "      <th>max</th>\n",
       "      <td>NaN</td>\n",
       "      <td>128.000000</td>\n",
       "    </tr>\n",
       "  </tbody>\n",
       "</table>\n",
       "</div>"
      ],
      "text/plain": [
       "       device       value\n",
       "count     0.0   29.000000\n",
       "mean      NaN  113.206897\n",
       "std       NaN    8.973689\n",
       "min       NaN   95.000000\n",
       "25%       NaN  106.000000\n",
       "50%       NaN  112.000000\n",
       "75%       NaN  122.000000\n",
       "max       NaN  128.000000"
      ]
     },
     "execution_count": 33,
     "metadata": {},
     "output_type": "execute_result"
    }
   ],
   "source": [
    "systolic.describe()"
   ]
  },
  {
   "cell_type": "markdown",
   "metadata": {},
   "source": [
    "------"
   ]
  },
  {
   "cell_type": "markdown",
   "metadata": {},
   "source": [
    "## Sleep"
   ]
  },
  {
   "cell_type": "code",
   "execution_count": 36,
   "metadata": {
    "collapsed": true
   },
   "outputs": [],
   "source": [
    "sleep = pd.read_csv(\"data/SleepAnalysis.csv\")"
   ]
  },
  {
   "cell_type": "code",
   "execution_count": 37,
   "metadata": {},
   "outputs": [
    {
     "data": {
      "text/html": [
       "<div>\n",
       "<style scoped>\n",
       "    .dataframe tbody tr th:only-of-type {\n",
       "        vertical-align: middle;\n",
       "    }\n",
       "\n",
       "    .dataframe tbody tr th {\n",
       "        vertical-align: top;\n",
       "    }\n",
       "\n",
       "    .dataframe thead th {\n",
       "        text-align: right;\n",
       "    }\n",
       "</style>\n",
       "<table border=\"1\" class=\"dataframe\">\n",
       "  <thead>\n",
       "    <tr style=\"text-align: right;\">\n",
       "      <th></th>\n",
       "      <th>sourceName</th>\n",
       "      <th>sourceVersion</th>\n",
       "      <th>device</th>\n",
       "      <th>type</th>\n",
       "      <th>unit</th>\n",
       "      <th>creationDate</th>\n",
       "      <th>startDate</th>\n",
       "      <th>endDate</th>\n",
       "      <th>value</th>\n",
       "    </tr>\n",
       "  </thead>\n",
       "  <tbody>\n",
       "    <tr>\n",
       "      <th>431</th>\n",
       "      <td>Clock</td>\n",
       "      <td>50.0</td>\n",
       "      <td>&lt;&lt;HKDevice: 0x28378eda0&gt;, name:iPhone, manufac...</td>\n",
       "      <td>SleepAnalysis</td>\n",
       "      <td>NaN</td>\n",
       "      <td>2018-12-10 10:40:21 -0400</td>\n",
       "      <td>2018-12-10 07:10:28 -0400</td>\n",
       "      <td>2018-12-10 07:34:32 -0400</td>\n",
       "      <td>HKCategoryValueSleepAnalysisInBed</td>\n",
       "    </tr>\n",
       "    <tr>\n",
       "      <th>432</th>\n",
       "      <td>Clock</td>\n",
       "      <td>50.0</td>\n",
       "      <td>&lt;&lt;HKDevice: 0x28378eda0&gt;, name:iPhone, manufac...</td>\n",
       "      <td>SleepAnalysis</td>\n",
       "      <td>NaN</td>\n",
       "      <td>2018-12-10 10:40:21 -0400</td>\n",
       "      <td>2018-12-10 07:35:20 -0400</td>\n",
       "      <td>2018-12-10 07:45:08 -0400</td>\n",
       "      <td>HKCategoryValueSleepAnalysisInBed</td>\n",
       "    </tr>\n",
       "    <tr>\n",
       "      <th>433</th>\n",
       "      <td>Clock</td>\n",
       "      <td>50.0</td>\n",
       "      <td>&lt;&lt;HKDevice: 0x28378eda0&gt;, name:iPhone, manufac...</td>\n",
       "      <td>SleepAnalysis</td>\n",
       "      <td>NaN</td>\n",
       "      <td>2018-12-10 10:40:21 -0400</td>\n",
       "      <td>2018-12-10 08:08:04 -0400</td>\n",
       "      <td>2018-12-10 08:09:28 -0400</td>\n",
       "      <td>HKCategoryValueSleepAnalysisInBed</td>\n",
       "    </tr>\n",
       "    <tr>\n",
       "      <th>434</th>\n",
       "      <td>Clock</td>\n",
       "      <td>50.0</td>\n",
       "      <td>&lt;&lt;HKDevice: 0x28378eda0&gt;, name:iPhone, manufac...</td>\n",
       "      <td>SleepAnalysis</td>\n",
       "      <td>NaN</td>\n",
       "      <td>2018-12-10 10:40:21 -0400</td>\n",
       "      <td>2018-12-10 08:09:44 -0400</td>\n",
       "      <td>2018-12-10 08:21:52 -0400</td>\n",
       "      <td>HKCategoryValueSleepAnalysisInBed</td>\n",
       "    </tr>\n",
       "    <tr>\n",
       "      <th>435</th>\n",
       "      <td>Clock</td>\n",
       "      <td>50.0</td>\n",
       "      <td>&lt;&lt;HKDevice: 0x28378eda0&gt;, name:iPhone, manufac...</td>\n",
       "      <td>SleepAnalysis</td>\n",
       "      <td>NaN</td>\n",
       "      <td>2018-12-10 10:40:21 -0400</td>\n",
       "      <td>2018-12-10 08:22:40 -0400</td>\n",
       "      <td>2018-12-10 10:40:11 -0400</td>\n",
       "      <td>HKCategoryValueSleepAnalysisInBed</td>\n",
       "    </tr>\n",
       "  </tbody>\n",
       "</table>\n",
       "</div>"
      ],
      "text/plain": [
       "    sourceName  sourceVersion  \\\n",
       "431      Clock           50.0   \n",
       "432      Clock           50.0   \n",
       "433      Clock           50.0   \n",
       "434      Clock           50.0   \n",
       "435      Clock           50.0   \n",
       "\n",
       "                                                device           type  unit  \\\n",
       "431  <<HKDevice: 0x28378eda0>, name:iPhone, manufac...  SleepAnalysis   NaN   \n",
       "432  <<HKDevice: 0x28378eda0>, name:iPhone, manufac...  SleepAnalysis   NaN   \n",
       "433  <<HKDevice: 0x28378eda0>, name:iPhone, manufac...  SleepAnalysis   NaN   \n",
       "434  <<HKDevice: 0x28378eda0>, name:iPhone, manufac...  SleepAnalysis   NaN   \n",
       "435  <<HKDevice: 0x28378eda0>, name:iPhone, manufac...  SleepAnalysis   NaN   \n",
       "\n",
       "                  creationDate                  startDate  \\\n",
       "431  2018-12-10 10:40:21 -0400  2018-12-10 07:10:28 -0400   \n",
       "432  2018-12-10 10:40:21 -0400  2018-12-10 07:35:20 -0400   \n",
       "433  2018-12-10 10:40:21 -0400  2018-12-10 08:08:04 -0400   \n",
       "434  2018-12-10 10:40:21 -0400  2018-12-10 08:09:44 -0400   \n",
       "435  2018-12-10 10:40:21 -0400  2018-12-10 08:22:40 -0400   \n",
       "\n",
       "                       endDate                              value  \n",
       "431  2018-12-10 07:34:32 -0400  HKCategoryValueSleepAnalysisInBed  \n",
       "432  2018-12-10 07:45:08 -0400  HKCategoryValueSleepAnalysisInBed  \n",
       "433  2018-12-10 08:09:28 -0400  HKCategoryValueSleepAnalysisInBed  \n",
       "434  2018-12-10 08:21:52 -0400  HKCategoryValueSleepAnalysisInBed  \n",
       "435  2018-12-10 10:40:11 -0400  HKCategoryValueSleepAnalysisInBed  "
      ]
     },
     "execution_count": 37,
     "metadata": {},
     "output_type": "execute_result"
    }
   ],
   "source": [
    "sleep.tail()"
   ]
  },
  {
   "cell_type": "code",
   "execution_count": 38,
   "metadata": {},
   "outputs": [
    {
     "data": {
      "text/html": [
       "<div>\n",
       "<style scoped>\n",
       "    .dataframe tbody tr th:only-of-type {\n",
       "        vertical-align: middle;\n",
       "    }\n",
       "\n",
       "    .dataframe tbody tr th {\n",
       "        vertical-align: top;\n",
       "    }\n",
       "\n",
       "    .dataframe thead th {\n",
       "        text-align: right;\n",
       "    }\n",
       "</style>\n",
       "<table border=\"1\" class=\"dataframe\">\n",
       "  <thead>\n",
       "    <tr style=\"text-align: right;\">\n",
       "      <th></th>\n",
       "      <th>sourceVersion</th>\n",
       "      <th>unit</th>\n",
       "    </tr>\n",
       "  </thead>\n",
       "  <tbody>\n",
       "    <tr>\n",
       "      <th>count</th>\n",
       "      <td>436.000000</td>\n",
       "      <td>0.0</td>\n",
       "    </tr>\n",
       "    <tr>\n",
       "      <th>mean</th>\n",
       "      <td>49.887615</td>\n",
       "      <td>NaN</td>\n",
       "    </tr>\n",
       "    <tr>\n",
       "      <th>std</th>\n",
       "      <td>2.346674</td>\n",
       "      <td>NaN</td>\n",
       "    </tr>\n",
       "    <tr>\n",
       "      <th>min</th>\n",
       "      <td>1.000000</td>\n",
       "      <td>NaN</td>\n",
       "    </tr>\n",
       "    <tr>\n",
       "      <th>25%</th>\n",
       "      <td>50.000000</td>\n",
       "      <td>NaN</td>\n",
       "    </tr>\n",
       "    <tr>\n",
       "      <th>50%</th>\n",
       "      <td>50.000000</td>\n",
       "      <td>NaN</td>\n",
       "    </tr>\n",
       "    <tr>\n",
       "      <th>75%</th>\n",
       "      <td>50.000000</td>\n",
       "      <td>NaN</td>\n",
       "    </tr>\n",
       "    <tr>\n",
       "      <th>max</th>\n",
       "      <td>50.000000</td>\n",
       "      <td>NaN</td>\n",
       "    </tr>\n",
       "  </tbody>\n",
       "</table>\n",
       "</div>"
      ],
      "text/plain": [
       "       sourceVersion  unit\n",
       "count     436.000000   0.0\n",
       "mean       49.887615   NaN\n",
       "std         2.346674   NaN\n",
       "min         1.000000   NaN\n",
       "25%        50.000000   NaN\n",
       "50%        50.000000   NaN\n",
       "75%        50.000000   NaN\n",
       "max        50.000000   NaN"
      ]
     },
     "execution_count": 38,
     "metadata": {},
     "output_type": "execute_result"
    }
   ],
   "source": [
    "sleep.describe()"
   ]
  },
  {
   "cell_type": "code",
   "execution_count": null,
   "metadata": {
    "collapsed": true
   },
   "outputs": [],
   "source": []
  }
 ],
 "metadata": {
  "kernelspec": {
   "display_name": "Python 3",
   "language": "python",
   "name": "python3"
  },
  "language_info": {
   "codemirror_mode": {
    "name": "ipython",
    "version": 3
   },
   "file_extension": ".py",
   "mimetype": "text/x-python",
   "name": "python",
   "nbconvert_exporter": "python",
   "pygments_lexer": "ipython3",
   "version": "3.10.0"
  }
 },
 "nbformat": 4,
 "nbformat_minor": 2
}
